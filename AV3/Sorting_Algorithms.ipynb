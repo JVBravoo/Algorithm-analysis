{
 "cells": [
  {
   "cell_type": "code",
   "execution_count": 4,
   "metadata": {},
   "outputs": [
    {
     "output_type": "stream",
     "name": "stdout",
     "text": [
      "Requirement already satisfied: pandas in /usr/local/lib/python3.8/site-packages (1.1.4)\n",
      "Requirement already satisfied: python-dateutil>=2.7.3 in /Users/bravo/Library/Python/3.8/lib/python/site-packages (from pandas) (2.8.1)\n",
      "Requirement already satisfied: numpy>=1.15.4 in /usr/local/lib/python3.8/site-packages (from pandas) (1.19.4)\n",
      "Requirement already satisfied: pytz>=2017.2 in /usr/local/lib/python3.8/site-packages (from pandas) (2020.4)\n",
      "Requirement already satisfied: six>=1.5 in /Users/bravo/Library/Python/3.8/lib/python/site-packages (from python-dateutil>=2.7.3->pandas) (1.15.0)\n",
      "Note: you may need to restart the kernel to use updated packages.\n"
     ]
    }
   ],
   "source": [
    "pip install pandas"
   ]
  },
  {
   "cell_type": "code",
   "execution_count": 1,
   "metadata": {},
   "outputs": [
    {
     "output_type": "stream",
     "name": "stdout",
     "text": [
      "Collecting seaborn\n",
      "  Using cached seaborn-0.11.0-py3-none-any.whl (283 kB)\n",
      "Collecting scipy>=1.0\n",
      "  Downloading scipy-1.5.4-cp38-cp38-macosx_10_9_x86_64.whl (29.0 MB)\n",
      "\u001b[K     |████████████████████████████████| 29.0 MB 4.3 MB/s \n",
      "\u001b[?25hCollecting numpy>=1.15\n",
      "  Downloading numpy-1.19.4-cp38-cp38-macosx_10_9_x86_64.whl (15.3 MB)\n",
      "\u001b[K     |████████████████████████████████| 15.3 MB 7.0 MB/s \n",
      "\u001b[?25hCollecting matplotlib>=2.2\n",
      "  Downloading matplotlib-3.3.3-cp38-cp38-macosx_10_9_x86_64.whl (8.5 MB)\n",
      "\u001b[K     |████████████████████████████████| 8.5 MB 3.1 MB/s \n",
      "\u001b[?25hCollecting pandas>=0.23\n",
      "  Downloading pandas-1.1.4-cp38-cp38-macosx_10_9_x86_64.whl (10.1 MB)\n",
      "\u001b[K     |████████████████████████████████| 10.1 MB 4.8 MB/s \n",
      "\u001b[?25hCollecting pillow>=6.2.0\n",
      "  Downloading Pillow-8.0.1-cp38-cp38-macosx_10_10_x86_64.whl (2.2 MB)\n",
      "\u001b[K     |████████████████████████████████| 2.2 MB 9.2 MB/s \n",
      "\u001b[?25hRequirement already satisfied: python-dateutil>=2.1 in /Users/bravo/Library/Python/3.8/lib/python/site-packages (from matplotlib>=2.2->seaborn) (2.8.1)\n",
      "Collecting kiwisolver>=1.0.1\n",
      "  Downloading kiwisolver-1.3.1-cp38-cp38-macosx_10_9_x86_64.whl (61 kB)\n",
      "\u001b[K     |████████████████████████████████| 61 kB 298 kB/s \n",
      "\u001b[?25hCollecting pyparsing!=2.0.4,!=2.1.2,!=2.1.6,>=2.0.3\n",
      "  Downloading pyparsing-2.4.7-py2.py3-none-any.whl (67 kB)\n",
      "\u001b[K     |████████████████████████████████| 67 kB 8.0 MB/s \n",
      "\u001b[?25hCollecting cycler>=0.10\n",
      "  Using cached cycler-0.10.0-py2.py3-none-any.whl (6.5 kB)\n",
      "Collecting pytz>=2017.2\n",
      "  Using cached pytz-2020.4-py2.py3-none-any.whl (509 kB)\n",
      "Requirement already satisfied: six>=1.5 in /Users/bravo/Library/Python/3.8/lib/python/site-packages (from python-dateutil>=2.1->matplotlib>=2.2->seaborn) (1.15.0)\n",
      "Installing collected packages: numpy, scipy, pillow, kiwisolver, pyparsing, cycler, matplotlib, pytz, pandas, seaborn\n",
      "Successfully installed cycler-0.10.0 kiwisolver-1.3.1 matplotlib-3.3.3 numpy-1.19.4 pandas-1.1.4 pillow-8.0.1 pyparsing-2.4.7 pytz-2020.4 scipy-1.5.4 seaborn-0.11.0\n",
      "Note: you may need to restart the kernel to use updated packages.\n"
     ]
    }
   ],
   "source": [
    "pip install seaborn"
   ]
  },
  {
   "cell_type": "code",
   "execution_count": 2,
   "metadata": {},
   "outputs": [
    {
     "output_type": "stream",
     "name": "stdout",
     "text": [
      "Requirement already satisfied: matplotlib in /usr/local/lib/python3.8/site-packages (3.3.3)\n",
      "Requirement already satisfied: python-dateutil>=2.1 in /Users/bravo/Library/Python/3.8/lib/python/site-packages (from matplotlib) (2.8.1)\n",
      "Requirement already satisfied: kiwisolver>=1.0.1 in /usr/local/lib/python3.8/site-packages (from matplotlib) (1.3.1)\n",
      "Requirement already satisfied: numpy>=1.15 in /usr/local/lib/python3.8/site-packages (from matplotlib) (1.19.4)\n",
      "Requirement already satisfied: cycler>=0.10 in /usr/local/lib/python3.8/site-packages (from matplotlib) (0.10.0)\n",
      "Requirement already satisfied: pyparsing!=2.0.4,!=2.1.2,!=2.1.6,>=2.0.3 in /usr/local/lib/python3.8/site-packages (from matplotlib) (2.4.7)\n",
      "Requirement already satisfied: pillow>=6.2.0 in /usr/local/lib/python3.8/site-packages (from matplotlib) (8.0.1)\n",
      "Requirement already satisfied: six>=1.5 in /Users/bravo/Library/Python/3.8/lib/python/site-packages (from python-dateutil>=2.1->matplotlib) (1.15.0)\n",
      "Note: you may need to restart the kernel to use updated packages.\n"
     ]
    }
   ],
   "source": [
    "pip install matplotlib"
   ]
  },
  {
   "cell_type": "code",
   "execution_count": 48,
   "metadata": {},
   "outputs": [],
   "source": [
    "import pandas as pd\n",
    "import numpy as np\n",
    "import matplotlib.pyplot as plt\n",
    "import seaborn as sns\n",
    "import time"
   ]
  },
  {
   "source": [
    "## A célula abaixo serve para que eu possa ler todas as entradas requisitadas nesse exercício."
   ],
   "cell_type": "markdown",
   "metadata": {}
  },
  {
   "cell_type": "code",
   "execution_count": 143,
   "metadata": {},
   "outputs": [],
   "source": [
    "# Função pra ler os arquivos.\n",
    "def Read(file):\n",
    "    data = []\n",
    "    read = open(file, 'r')\n",
    "    next(read)\n",
    "\n",
    "    for row in read.readlines():\n",
    "        change = row.strip(\"\\n\").replace(\"\\t\", \",\").split(\",\") # Ao invés de a linha quebrar, ela vai continuar com um TAB.\n",
    "        for value in change:\n",
    "            data.append(int(value))\n",
    "            \n",
    "    read.close()\n",
    "    return data\n",
    "    "
   ]
  },
  {
   "cell_type": "code",
   "execution_count": 144,
   "metadata": {},
   "outputs": [],
   "source": [
    "# Ler os arquivos\n",
    "dados1000 = Read('Inputs/1000.txt')\n",
    "dados5000 = Read('Inputs/5000.txt')\n",
    "dados10000 = Read('Inputs/10000.txt')\n",
    "dados20000 = Read('Inputs/20000.txt')\n",
    "dados50000 = Read('Inputs/50000.txt')\n",
    "dados75000 = Read('Inputs/75000.txt')\n",
    "dados100000 = Read('Inputs/100000.txt')"
   ]
  },
  {
   "cell_type": "markdown",
   "metadata": {},
   "source": [
    "# Selection Sort\n",
    "### Esse algoritmo ordena um array procurando sempre o mínimo elemento desse array, assim que ele acha esse elemento mínimo, o mesmo elemento vai para o começo do array.\n",
    "### O algoritmo mantém 2 arrays, um para os elementos que estão sendo ordenados, e o outro array são dos elementos que ainda não foram ordenados."
   ]
  },
  {
   "cell_type": "code",
   "execution_count": 145,
   "metadata": {},
   "outputs": [],
   "source": [
    "def selection_sort(entrada):\n",
    "    # indica quantos itens foram ordenados\n",
    "    for i in range(len(entrada)-1):\n",
    "        # Procura o mínimo valor de um segmento não ordenado\n",
    "        # Primeiro pegamos o primeiro valor e dizemos que ele é o menor\n",
    "        min_index = i\n",
    "        # agora j vai ser usado para um loop para os elementos que sobraram\n",
    "        for j in range(i+1, len(entrada)-1):\n",
    "            # atualiza a variavel min_index, se caso o j for menor que o atual valor\n",
    "            if entrada[j] < entrada[min_index]:\n",
    "                min_index = j\n",
    "        # depois de encontrar o menor valor que não está ordenado, troca com o primeiro valor que também não está ordenado ainda\n",
    "        entrada[i], entrada[min_index] = entrada[min_index], entrada[i]\n",
    "\n",
    "    return entrada\n",
    "\n",
    "# Usei abaixo, para testar se o algoritmo estava funcionando:\n",
    "\n",
    "# # L = [3, 1, 41, 59, 26, 53, 59] 3 1 41 59 26 53 59  \n",
    "# selection_sort(entrada)\n",
    "# print(entrada)"
   ]
  },
  {
   "source": [
    "### Rodando Selection Sort com 1000 números"
   ],
   "cell_type": "markdown",
   "metadata": {}
  },
  {
   "cell_type": "code",
   "execution_count": 97,
   "metadata": {},
   "outputs": [
    {
     "output_type": "stream",
     "name": "stdout",
     "text": [
      "0.07269597053527832\n"
     ]
    }
   ],
   "source": [
    "# Fazer a leitura dos arquivos e descobrindo o tempo de processamento do algoritmo.\n",
    "\n",
    "selection_start_time = time.time()\n",
    "selection_sort(dados1000[:]) # Faz cópia do array.\n",
    "selection_final_time = time.time()\n",
    "selection_middle_time_1000 = selection_final_time - selection_start_time\n",
    "print(selection_middle_time_1000) "
   ]
  },
  {
   "source": [
    "### Rodando Selection Sort com 5000 números"
   ],
   "cell_type": "markdown",
   "metadata": {}
  },
  {
   "cell_type": "code",
   "execution_count": 99,
   "metadata": {},
   "outputs": [
    {
     "output_type": "stream",
     "name": "stdout",
     "text": [
      "1.4877378940582275\n"
     ]
    }
   ],
   "source": [
    "selection_start_time = time.time()\n",
    "selection_sort(dados5000[:])\n",
    "selection_final_time = time.time()\n",
    "selection_middle_time_5000 = selection_final_time - selection_start_time\n",
    "print(selection_middle_time_5000) "
   ]
  },
  {
   "source": [
    "### Rodando Selection Sort com 10000 números"
   ],
   "cell_type": "markdown",
   "metadata": {}
  },
  {
   "cell_type": "code",
   "execution_count": 100,
   "metadata": {},
   "outputs": [
    {
     "output_type": "stream",
     "name": "stdout",
     "text": [
      "5.508242130279541\n"
     ]
    }
   ],
   "source": [
    "selection_start_time = time.time()\n",
    "selection_sort(dados10000[:])\n",
    "selection_final_time = time.time()\n",
    "selection_middle_time_10000 = selection_final_time - selection_start_time\n",
    "print(selection_middle_time_10000)"
   ]
  },
  {
   "source": [
    "### Rodando Selection Sort com 20000 números"
   ],
   "cell_type": "markdown",
   "metadata": {}
  },
  {
   "cell_type": "code",
   "execution_count": 128,
   "metadata": {},
   "outputs": [
    {
     "output_type": "stream",
     "name": "stdout",
     "text": [
      "19.025431871414185\n"
     ]
    }
   ],
   "source": [
    "selection_start_time = time.time()\n",
    "selection_sort(dados20000[:])\n",
    "selection_final_time = time.time()\n",
    "selection_middle_time_20000 = selection_final_time - selection_start_time\n",
    "print(selection_middle_time_20000)"
   ]
  },
  {
   "source": [
    "### Rodando Selection Sort com 50000 números"
   ],
   "cell_type": "markdown",
   "metadata": {}
  },
  {
   "cell_type": "code",
   "execution_count": 130,
   "metadata": {},
   "outputs": [
    {
     "output_type": "stream",
     "name": "stdout",
     "text": [
      "118.39362096786499\n"
     ]
    }
   ],
   "source": [
    "selection_start_time = time.time()\n",
    "selection_sort(dados50000[:])\n",
    "selection_final_time = time.time()\n",
    "selection_middle_time_50000 = selection_final_time - selection_start_time\n",
    "print(selection_middle_time_50000)"
   ]
  },
  {
   "source": [
    "### Rodando Selection Sort com 75000 números"
   ],
   "cell_type": "markdown",
   "metadata": {}
  },
  {
   "cell_type": "code",
   "execution_count": 131,
   "metadata": {},
   "outputs": [
    {
     "output_type": "stream",
     "name": "stdout",
     "text": [
      "275.18445324897766\n"
     ]
    }
   ],
   "source": [
    "selection_start_time = time.time()\n",
    "selection_sort(dados75000[:])\n",
    "selection_final_time = time.time()\n",
    "selection_middle_time_75000 = selection_final_time - selection_start_time\n",
    "print(selection_middle_time_75000)"
   ]
  },
  {
   "source": [
    "### Rodando Selection Sort com 100000 números"
   ],
   "cell_type": "markdown",
   "metadata": {}
  },
  {
   "cell_type": "code",
   "execution_count": 124,
   "metadata": {},
   "outputs": [
    {
     "output_type": "stream",
     "name": "stdout",
     "text": [
      "470.25417280197144\n"
     ]
    }
   ],
   "source": [
    "selection_start_time = time.time()\n",
    "selection_sort(dados100000[:])\n",
    "selection_final_time = time.time()\n",
    "selection_middle_time_100000 = selection_final_time - selection_start_time\n",
    "print(selection_middle_time_100000)"
   ]
  },
  {
   "source": [
    "# Quick Sort\n",
    "### É um algoritmo de dividir e conquistar. Dá para usar o pivô de algumas formas diferentes, como: 1) Sempre pegar o pivô como primeiro elemento, 2) Sempre pegar o último elemento, 3) Pegar um elemento randômico e 4) Pegar um pivô mediano.\n",
    "###  Na implementação abaixo, eu faço um DEF de partição (partition()), que no caso dado um array e um pivô Y, irei colocar esse pivô Y na posição correta no array ordenado, coloco todos os elementos menores que Y, antes do pivô Y e coloco todos os valores maiores que Y depois do pivô Y."
   ],
   "cell_type": "markdown",
   "metadata": {}
  },
  {
   "cell_type": "code",
   "execution_count": 146,
   "metadata": {},
   "outputs": [],
   "source": [
    "def partition(array, start, end):\n",
    "    pivot = array[start] # primeiro elemento do array\n",
    "    low = start + 1 # Segundo elemento do array\n",
    "    high = end # último elemento do array\n",
    "\n",
    "    while True:\n",
    "        # Se caso o valor atual que estamos procurando, seja maior que o pivô\n",
    "        # e ele está na direita do pivô, ou seja, está no lugar correto.\n",
    "        # Nós podemos ir para o próximo elemento que no caso está na esquerda.\n",
    "        # Tenho que checar se eu não ultrapassei o menor ponto, \n",
    "        # pois ele indica que nós ja colocamos todos os elementos para o lado correto do pivô\n",
    "        while low <= high and array[high] >= pivot:\n",
    "            high = high - 1 # Ele vai indo para a esquerda, visto que essa variável está apontando para o último elemento do array.\n",
    "\n",
    "        # Essa parte faz exatamente o oposto da de cima.\n",
    "        while low <= high and array[low] <= pivot:\n",
    "            low = low + 1 # Ele vai indo para a direita, visto que a variável está apontando para o segundo elemento do array.\n",
    "\n",
    "        # Nós temos que encontrar um valor para a sublista low e high que está fora de ordem, e no caso nós iremos trocar as posições\n",
    "        # Se low for maior que high, sai do loop.\n",
    "        if low <= high:\n",
    "            array[low], array[high] = array[high], array[low]\n",
    "            # o loop continua\n",
    "        else:\n",
    "            # sai do loop\n",
    "            break\n",
    "\n",
    "    array[start], array[high] = array[high], array[start]\n",
    "\n",
    "    return high\n",
    "\n",
    "\n",
    "def quick_sort(array, start, end):\n",
    "    if start >= end:\n",
    "        return\n",
    "\n",
    "    p = partition(array, start, end)\n",
    "    quick_sort(array, start, p-1)\n",
    "    quick_sort(array, p+1, end)\n",
    "\n",
    "    return (array, 0, len(array) - 1)\n",
    "\n",
    "# Usei abaixo para testar se o algoritmo estava funcionando:\n",
    "\n",
    "# array = [29,99,27,41,66,28,44,78,87,19,31,76,58,88,83,97,12,21,44]\n",
    "# quick_sort(array, 0, len(array) - 1) \n",
    "# print(array)\n"
   ]
  },
  {
   "source": [
    "### Rodando Quick Sort com 1000 números"
   ],
   "cell_type": "markdown",
   "metadata": {}
  },
  {
   "cell_type": "code",
   "execution_count": 101,
   "metadata": {},
   "outputs": [
    {
     "output_type": "stream",
     "name": "stdout",
     "text": [
      "0.004339933395385742\n"
     ]
    }
   ],
   "source": [
    "quick_start_time = time.time()\n",
    "quick_sort(dados1000[:], 0, len(dados1000) - 1)\n",
    "quick_final_time = time.time()\n",
    "quick_middle_time_1000 = quick_final_time - quick_start_time\n",
    "print(quick_middle_time_1000)"
   ]
  },
  {
   "source": [
    "### Rodando Quick Sort com 5000 números"
   ],
   "cell_type": "markdown",
   "metadata": {}
  },
  {
   "cell_type": "code",
   "execution_count": 102,
   "metadata": {},
   "outputs": [
    {
     "output_type": "stream",
     "name": "stdout",
     "text": [
      "0.04148721694946289\n"
     ]
    }
   ],
   "source": [
    "quick_start_time = time.time()\n",
    "quick_sort(dados5000[:], 0, len(dados5000) - 1)\n",
    "quick_final_time = time.time()\n",
    "quick_middle_time_5000 = quick_final_time - quick_start_time\n",
    "print(quick_middle_time_5000)"
   ]
  },
  {
   "source": [
    "### Rodando Quick Sort com 10000 números"
   ],
   "cell_type": "markdown",
   "metadata": {}
  },
  {
   "cell_type": "code",
   "execution_count": 103,
   "metadata": {},
   "outputs": [
    {
     "output_type": "stream",
     "name": "stdout",
     "text": [
      "0.06205105781555176\n"
     ]
    }
   ],
   "source": [
    "quick_start_time = time.time()\n",
    "quick_sort(dados10000[:], 0, len(dados10000) - 1)\n",
    "quick_final_time = time.time()\n",
    "quick_middle_time_10000 = quick_final_time - quick_start_time\n",
    "print(quick_middle_time_10000)"
   ]
  },
  {
   "source": [
    "### Rodando Quick Sort com 20000 números"
   ],
   "cell_type": "markdown",
   "metadata": {}
  },
  {
   "cell_type": "code",
   "execution_count": 104,
   "metadata": {},
   "outputs": [
    {
     "output_type": "stream",
     "name": "stdout",
     "text": [
      "0.10458588600158691\n"
     ]
    }
   ],
   "source": [
    "quick_start_time = time.time()\n",
    "quick_sort(dados20000[:], 0, len(dados20000) - 1)\n",
    "quick_final_time = time.time()\n",
    "quick_middle_time_20000 = quick_final_time - quick_start_time\n",
    "print(quick_middle_time_20000)"
   ]
  },
  {
   "source": [
    "### Rodando Quick Sort com 50000 números"
   ],
   "cell_type": "markdown",
   "metadata": {}
  },
  {
   "cell_type": "code",
   "execution_count": 105,
   "metadata": {},
   "outputs": [
    {
     "output_type": "stream",
     "name": "stdout",
     "text": [
      "0.23424196243286133\n"
     ]
    }
   ],
   "source": [
    "quick_start_time = time.time()\n",
    "quick_sort(dados50000[:], 0, len(dados50000) - 1)\n",
    "quick_final_time = time.time()\n",
    "quick_middle_time_50000 = quick_final_time - quick_start_time\n",
    "print(quick_middle_time_50000)"
   ]
  },
  {
   "source": [
    "### Rodando Quick Sort com 75000 números"
   ],
   "cell_type": "markdown",
   "metadata": {}
  },
  {
   "cell_type": "code",
   "execution_count": 106,
   "metadata": {},
   "outputs": [
    {
     "output_type": "stream",
     "name": "stdout",
     "text": [
      "0.3752410411834717\n"
     ]
    }
   ],
   "source": [
    "quick_start_time = time.time()\n",
    "quick_sort(dados75000[:], 0, len(dados75000) - 1)\n",
    "quick_final_time = time.time()\n",
    "quick_middle_time_75000 = quick_final_time - quick_start_time\n",
    "print(quick_middle_time_75000)"
   ]
  },
  {
   "source": [
    "### Rodando Quick Sort com 100000 números"
   ],
   "cell_type": "markdown",
   "metadata": {}
  },
  {
   "cell_type": "code",
   "execution_count": 107,
   "metadata": {},
   "outputs": [
    {
     "output_type": "stream",
     "name": "stdout",
     "text": [
      "0.5368571281433105\n"
     ]
    }
   ],
   "source": [
    "quick_start_time = time.time()\n",
    "quick_sort(dados100000[:], 0, len(dados100000) - 1)\n",
    "quick_final_time = time.time()\n",
    "quick_middle_time_100000 = quick_final_time - quick_start_time\n",
    "print(quick_middle_time_100000)"
   ]
  },
  {
   "source": [
    "# Tree Sort\n",
    "### É um algoritmo de ordenação que é baseado na estrutura de dados de árvore binária. \n",
    "### Primeiro ele cria uma árvore binária baseado nos elementos do array e depois ele roda o algoritmo \"em-ordem\" na árvore binária que foi criada, para que a mesma possa ser ordenada.\n",
    "\n",
    "### https://www.youtube.com/watch?v=n2MLjGeK7qA , vídeo que explica muito bem (0:26)"
   ],
   "cell_type": "markdown",
   "metadata": {}
  },
  {
   "cell_type": "code",
   "execution_count": 147,
   "metadata": {},
   "outputs": [],
   "source": [
    "class node():\n",
    "    # Estrutura da árvore binária\n",
    "    def __init__(self, val):\n",
    "        self.val = val\n",
    "        self.left = None \n",
    "        self.right = None \n",
    "    \n",
    "    def insert(self,val):\n",
    "        if self.val:\n",
    "            if val < self.val:\n",
    "                if self.left is None:\n",
    "                    self.left = node(val)\n",
    "                else:\n",
    "                    self.left.insert(val)\n",
    "            elif val > self.val:\n",
    "                if self.right is None:\n",
    "                    self.right = node(val)\n",
    "                else:\n",
    "                    self.right.insert(val)\n",
    "        else:\n",
    "            self.val = val\n",
    "\n",
    "def inorder(root, res):\n",
    "    # travessia recursiva \n",
    "    if root:\n",
    "        inorder(root.left,res)\n",
    "        res.append(root.val)\n",
    "        inorder(root.right,res)\n",
    "\n",
    "def treesort(entrada):\n",
    "    if len(entrada) == 0:\n",
    "        return entrada # Caso não tenha nada no arquivo\n",
    "    root = node(entrada[0]) # pega o primeiro elemento do array para ser o nó root\n",
    "    for i in range(1,len(entrada)):\n",
    "        root.insert(entrada[i]) # Usa a função insert(), para ir adicionando na árvore\n",
    "    # Faz a travessia em-ordem\n",
    "    res = []\n",
    "    inorder(root,res) # Pega da árvore e ordena em-ordem e coloca no array os elementos ordenados\n",
    "    return res \n",
    "\n",
    "# Usei abaixo para testar se o algoritmo estava funcionando:\n",
    "\n",
    "# print(treesort([7,1,5,2,19,14,17]))"
   ]
  },
  {
   "source": [
    "### Rodando Tree Sort com 1000 números"
   ],
   "cell_type": "markdown",
   "metadata": {}
  },
  {
   "cell_type": "code",
   "execution_count": 108,
   "metadata": {},
   "outputs": [
    {
     "output_type": "stream",
     "name": "stdout",
     "text": [
      "0.010622978210449219\n"
     ]
    }
   ],
   "source": [
    "tree_start_time = time.time()\n",
    "treesort(dados1000[:])\n",
    "tree_final_time = time.time()\n",
    "tree_middle_time_1000 = tree_final_time - tree_start_time\n",
    "print(tree_middle_time_1000)"
   ]
  },
  {
   "source": [
    "### Rodando Tree Sort com 5000 números"
   ],
   "cell_type": "markdown",
   "metadata": {}
  },
  {
   "cell_type": "code",
   "execution_count": 109,
   "metadata": {},
   "outputs": [
    {
     "output_type": "stream",
     "name": "stdout",
     "text": [
      "0.06672191619873047\n"
     ]
    }
   ],
   "source": [
    "tree_start_time = time.time()\n",
    "treesort(dados5000[:])\n",
    "tree_final_time = time.time()\n",
    "tree_middle_time_5000 = tree_final_time - tree_start_time\n",
    "print(tree_middle_time_5000)"
   ]
  },
  {
   "source": [
    "### Rodando Tree Sort com 10000 números"
   ],
   "cell_type": "markdown",
   "metadata": {}
  },
  {
   "cell_type": "code",
   "execution_count": 110,
   "metadata": {},
   "outputs": [
    {
     "output_type": "stream",
     "name": "stdout",
     "text": [
      "0.11207795143127441\n"
     ]
    }
   ],
   "source": [
    "tree_start_time = time.time()\n",
    "treesort(dados10000[:])\n",
    "tree_final_time = time.time()\n",
    "tree_middle_time_10000 = tree_final_time - tree_start_time\n",
    "print(tree_middle_time_10000)"
   ]
  },
  {
   "source": [
    "### Rodando Tree Sort com 20000 números"
   ],
   "cell_type": "markdown",
   "metadata": {}
  },
  {
   "cell_type": "code",
   "execution_count": 111,
   "metadata": {},
   "outputs": [
    {
     "output_type": "stream",
     "name": "stdout",
     "text": [
      "0.33507609367370605\n"
     ]
    }
   ],
   "source": [
    "tree_start_time = time.time()\n",
    "treesort(dados20000[:])\n",
    "tree_final_time = time.time()\n",
    "tree_middle_time_20000 = tree_final_time - tree_start_time\n",
    "print(tree_middle_time_20000)"
   ]
  },
  {
   "source": [
    "### Rodando Tree Sort com 50000 números"
   ],
   "cell_type": "markdown",
   "metadata": {}
  },
  {
   "cell_type": "code",
   "execution_count": 112,
   "metadata": {},
   "outputs": [
    {
     "output_type": "stream",
     "name": "stdout",
     "text": [
      "0.6826376914978027\n"
     ]
    }
   ],
   "source": [
    "tree_start_time = time.time()\n",
    "treesort(dados50000[:])\n",
    "tree_final_time = time.time()\n",
    "tree_middle_time_50000 = tree_final_time - tree_start_time\n",
    "print(tree_middle_time_50000)"
   ]
  },
  {
   "source": [
    "### Rodando Tree Sort com 75000 números"
   ],
   "cell_type": "markdown",
   "metadata": {}
  },
  {
   "cell_type": "code",
   "execution_count": 113,
   "metadata": {},
   "outputs": [
    {
     "output_type": "stream",
     "name": "stdout",
     "text": [
      "1.2700159549713135\n"
     ]
    }
   ],
   "source": [
    "tree_start_time = time.time()\n",
    "treesort(dados75000[:])\n",
    "tree_final_time = time.time()\n",
    "tree_middle_time_75000 = tree_final_time - tree_start_time\n",
    "print(tree_middle_time_75000)"
   ]
  },
  {
   "source": [
    "### Rodando Tree Sort com 100000 números"
   ],
   "cell_type": "markdown",
   "metadata": {}
  },
  {
   "cell_type": "code",
   "execution_count": 114,
   "metadata": {},
   "outputs": [
    {
     "output_type": "stream",
     "name": "stdout",
     "text": [
      "1.6345610618591309\n"
     ]
    }
   ],
   "source": [
    "tree_start_time = time.time()\n",
    "treesort(dados100000[:])\n",
    "tree_final_time = time.time()\n",
    "tree_middle_time_100000 = tree_final_time - tree_start_time\n",
    "print(tree_middle_time_100000)"
   ]
  },
  {
   "source": [
    "# Radix Sort\n",
    "### A ideia é esse algoritmo ir varrendo de dígito por dígito, começando do dígito menos significativo até o mais significativo. \n",
    "### Exemplo:\n",
    "    ARRAY: [170, 45, 75, 90, 802, 24, 2, 66]\n",
    "Sorting by least significant digit (1s place) gives: \n",
    "170, 90, 802, 2, 24, 45, 75, 66\n",
    "\n",
    "Sorting by next digit (10s place) gives: \n",
    "802, 2, 24, 45, 66, 170, 75, 90\n",
    "\n",
    "Sorting by the most significant digit (100s place) gives:\n",
    "2, 24, 45, 66, 75, 90, 170, 802"
   ],
   "cell_type": "markdown",
   "metadata": {}
  },
  {
   "source": [
    "# Esse exp1 representa o dígito dos elementos\n",
    "def countingSort(arr, exp1): \n",
    "\n",
    "\tn = len(arr) \n",
    "\n",
    "\t# Os elementos do array de output que irão ser ordenados\n",
    "\toutput = [0] * (n) \n",
    "\n",
    "\t# inicializa o count array como 0\n",
    "\tcount = [0] * (10) \n",
    "\n",
    "\t# Armazena a quantidade de ocorrências dentro de count[]\n",
    "\tfor i in range(0, n): \n",
    "\t\tindex = (arr[i] / exp1) \n",
    "\t\tcount[int(index % 10)] += 1\n",
    "\n",
    "\t# Muda o count[i], para que o mesmo seja atualizado, no caso contendo a sua nova posição no array output.\n",
    "\tfor i in range(1, 10): \n",
    "\t\tcount[i] += count[i - 1] \n",
    "\n",
    "\t# Builda o array output\n",
    "\ti = n - 1\n",
    "\twhile i >= 0: \n",
    "\t\tindex = (arr[i] / exp1) \n",
    "\t\toutput[count[int(index % 10)] - 1] = arr[i] \n",
    "\t\tcount[int(index % 10)] -= 1\n",
    "\t\ti -= 1\n",
    "\n",
    "\t# Copia o que tem dentro de output, para arr[], para que arr tenha os números ordenados\n",
    "\ti = 0\n",
    "\tfor i in range(0, len(arr)): \n",
    "\t\tarr[i] = output[i] \n",
    "\n",
    "def radixSort(entrada): \n",
    "\n",
    "\t# Procura o valor máximo, para saber o número de dígitos\n",
    "\tmax1 = max(entrada)  \n",
    "\n",
    "\t# Faz o counting sort para TODOS os dígitos\n",
    "\t# exp é 10^i, onde i é o dígito atual do elemento\n",
    "\texp = 1\n",
    "\twhile max1 / exp > 0: \n",
    "\t\tcountingSort(entrada, exp) \n",
    "\t\texp *= 10\n",
    "\n",
    "\treturn entrada\n",
    "\n",
    "# Usei abaixo para testar se o algoritmo estava funcionando:\n",
    "\n",
    "# arr = [170, 45, 75, 90, 802, 24, 2, 66] \n",
    "# radixSort(arr) \n",
    "# print(arr)\n",
    "\n"
   ],
   "cell_type": "code",
   "metadata": {},
   "execution_count": 148,
   "outputs": []
  },
  {
   "source": [
    "### Rodando Radix Sort com 1000 números"
   ],
   "cell_type": "markdown",
   "metadata": {}
  },
  {
   "cell_type": "code",
   "execution_count": 115,
   "metadata": {},
   "outputs": [
    {
     "output_type": "stream",
     "name": "stdout",
     "text": [
      "0.5473160743713379\n"
     ]
    }
   ],
   "source": [
    "radix_start_time = time.time()\n",
    "radixSort(dados1000[:])\n",
    "radix_final_time = time.time()\n",
    "radix_middle_time_1000 = radix_final_time - radix_start_time\n",
    "print(radix_middle_time_1000)"
   ]
  },
  {
   "source": [
    "### Rodando Radix Sort com 5000 números"
   ],
   "cell_type": "markdown",
   "metadata": {}
  },
  {
   "cell_type": "code",
   "execution_count": 116,
   "metadata": {},
   "outputs": [
    {
     "output_type": "stream",
     "name": "stdout",
     "text": [
      "3.2991020679473877\n"
     ]
    }
   ],
   "source": [
    "radix_start_time = time.time()\n",
    "radixSort(dados5000[:])\n",
    "radix_final_time = time.time()\n",
    "radix_middle_time_5000 = radix_final_time - radix_start_time\n",
    "print(radix_middle_time_5000)"
   ]
  },
  {
   "source": [
    "### Rodando Radix Sort com 10000 números"
   ],
   "cell_type": "markdown",
   "metadata": {}
  },
  {
   "cell_type": "code",
   "execution_count": 117,
   "metadata": {},
   "outputs": [
    {
     "output_type": "stream",
     "name": "stdout",
     "text": [
      "6.885530948638916\n"
     ]
    }
   ],
   "source": [
    "radix_start_time = time.time()\n",
    "radixSort(dados10000[:])\n",
    "radix_final_time = time.time()\n",
    "radix_middle_time_10000 = radix_final_time - radix_start_time\n",
    "print(radix_middle_time_10000)"
   ]
  },
  {
   "source": [
    "### Rodando Radix Sort com 20000 números"
   ],
   "cell_type": "markdown",
   "metadata": {}
  },
  {
   "cell_type": "code",
   "execution_count": 118,
   "metadata": {},
   "outputs": [
    {
     "output_type": "stream",
     "name": "stdout",
     "text": [
      "14.20420789718628\n"
     ]
    }
   ],
   "source": [
    "radix_start_time = time.time()\n",
    "radixSort(dados20000[:])\n",
    "radix_final_time = time.time()\n",
    "radix_middle_time_20000 = radix_final_time - radix_start_time\n",
    "print(radix_middle_time_20000)"
   ]
  },
  {
   "source": [
    "### Rodando Radix Sort com 50000 números"
   ],
   "cell_type": "markdown",
   "metadata": {}
  },
  {
   "cell_type": "code",
   "execution_count": 133,
   "metadata": {},
   "outputs": [
    {
     "output_type": "stream",
     "name": "stdout",
     "text": [
      "27.88274621963501\n"
     ]
    }
   ],
   "source": [
    "radix_start_time = time.time()\n",
    "radixSort(dados50000[:])\n",
    "radix_final_time = time.time()\n",
    "radix_middle_time_50000 = radix_final_time - radix_start_time\n",
    "print(radix_middle_time_50000)"
   ]
  },
  {
   "source": [
    "### Rodando Radix Sort com 75000 números"
   ],
   "cell_type": "markdown",
   "metadata": {}
  },
  {
   "cell_type": "code",
   "execution_count": 125,
   "metadata": {},
   "outputs": [
    {
     "output_type": "stream",
     "name": "stdout",
     "text": [
      "41.91593408584595\n"
     ]
    }
   ],
   "source": [
    "radix_start_time = time.time()\n",
    "radixSort(dados75000[:])\n",
    "radix_final_time = time.time()\n",
    "radix_middle_time_75000 = radix_final_time - radix_start_time\n",
    "print(radix_middle_time_75000)"
   ]
  },
  {
   "source": [
    "### Rodando Radix Sort com 100000 números"
   ],
   "cell_type": "markdown",
   "metadata": {}
  },
  {
   "cell_type": "code",
   "execution_count": 126,
   "metadata": {},
   "outputs": [
    {
     "output_type": "stream",
     "name": "stdout",
     "text": [
      "61.29632306098938\n"
     ]
    }
   ],
   "source": [
    "radix_start_time = time.time()\n",
    "radixSort(dados100000[:])\n",
    "radix_final_time = time.time()\n",
    "radix_middle_time_100000 = radix_final_time - radix_start_time\n",
    "print(radix_middle_time_100000)"
   ]
  },
  {
   "source": [
    "## Criando Tabela de tempo de cada algoritmo de acordo com o tamanho dos arquivos"
   ],
   "cell_type": "markdown",
   "metadata": {}
  },
  {
   "cell_type": "code",
   "execution_count": 134,
   "metadata": {},
   "outputs": [
    {
     "output_type": "stream",
     "name": "stdout",
     "text": [
      "                    1000      5000     10000      20000       50000  \\\nSelection Sort  0.072696  1.487738  5.508242  19.025432  118.393621   \nQuick Sort      0.004340  0.041487  0.062051   0.104586    0.234242   \nTree Sort       0.010623  0.066722  0.112078   0.335076    0.682638   \nRadix Sort      0.547316  3.299102  6.885531  14.204208   27.882746   \n\n                     75000      100000  \nSelection Sort  275.184453  470.254173  \nQuick Sort        0.375241    0.536857  \nTree Sort         1.270016    1.634561  \nRadix Sort       41.915934   61.296323  \n"
     ]
    }
   ],
   "source": [
    "time_data = {'1000':[selection_middle_time_1000, quick_middle_time_1000, tree_middle_time_1000, radix_middle_time_1000],\n",
    "            '5000':[selection_middle_time_5000, quick_middle_time_5000, tree_middle_time_5000, radix_middle_time_5000],\n",
    "            '10000':[selection_middle_time_10000, quick_middle_time_10000, tree_middle_time_10000, radix_middle_time_10000],\n",
    "            '20000':[selection_middle_time_20000, quick_middle_time_20000, tree_middle_time_20000, radix_middle_time_20000],\n",
    "            '50000':[selection_middle_time_50000, quick_middle_time_50000, tree_middle_time_50000, radix_middle_time_50000],\n",
    "            '75000':[selection_middle_time_75000, quick_middle_time_75000, tree_middle_time_75000, radix_middle_time_75000],\n",
    "            '100000':[selection_middle_time_100000, quick_middle_time_100000, tree_middle_time_100000, radix_middle_time_100000],\n",
    "}\n",
    "\n",
    "df = pd.DataFrame(time_data, index = ['Selection Sort', 'Quick Sort', 'Tree Sort', 'Radix Sort'])\n",
    "print(df.head())"
   ]
  },
  {
   "cell_type": "code",
   "execution_count": 140,
   "metadata": {},
   "outputs": [],
   "source": [
    "def calculo_grafico(alg, data):\n",
    "    start_time = time.time()\n",
    "    alg(data[:])\n",
    "    final_time = time.time()\n",
    "    middle_time = final_time - start_time\n",
    "    \n",
    "    return middle_time\n",
    "\n",
    "arquivos = [dados1000, dados5000, dados10000, dados20000, dados50000, dados75000, dados100000]\n",
    "\n",
    "# Função geral dos algoritmos para plotar o gráfico\n",
    "def exe(alg):\n",
    "    tempo_geral = []\n",
    "    for data in arquivos:\n",
    "        t = calculo_grafico(alg, data)\n",
    "        tempo_geral.append(t)\n",
    "    \n",
    "    return tempo_geral"
   ]
  },
  {
   "cell_type": "code",
   "execution_count": 155,
   "metadata": {},
   "outputs": [],
   "source": [
    "# Como o Quick sort precisa de mais 2 argumentos (start, end), preciso fazer um calculo do tempo só para ele\n",
    "def quick_grafico(data): # não preciso do argumento \"alg\", visto que vai ser usado para apenas 1 algoritmo\n",
    "    start_time = time.time()\n",
    "    quick_sort(data[:], 0, len(data) - 1)\n",
    "    final_time = time.time()\n",
    "    middle_time = final_time - start_time\n",
    "\n",
    "    return middle_time\n",
    "\n",
    "def exe_quick():\n",
    "    tempo_quick = []\n",
    "    for data in arquivos:\n",
    "        t = quick_grafico(data)\n",
    "        tempo_quick.append(t)\n",
    "    \n",
    "    return tempo_quick"
   ]
  },
  {
   "cell_type": "code",
   "execution_count": 149,
   "metadata": {},
   "outputs": [],
   "source": [
    "selection_geral = exe(selection_sort)\n",
    "quick_geral = exe_quick()\n",
    "tree_geral = exe(treesort)\n",
    "radix_geral = exe(radixSort)"
   ]
  },
  {
   "cell_type": "code",
   "execution_count": 154,
   "metadata": {},
   "outputs": [
    {
     "output_type": "display_data",
     "data": {
      "text/plain": "<Figure size 432x288 with 1 Axes>",
      "image/svg+xml": "<?xml version=\"1.0\" encoding=\"utf-8\" standalone=\"no\"?>\n<!DOCTYPE svg PUBLIC \"-//W3C//DTD SVG 1.1//EN\"\n  \"http://www.w3.org/Graphics/SVG/1.1/DTD/svg11.dtd\">\n<!-- Created with matplotlib (https://matplotlib.org/) -->\n<svg height=\"264.11625pt\" version=\"1.1\" viewBox=\"0 0 394.424006 264.11625\" width=\"394.424006pt\" xmlns=\"http://www.w3.org/2000/svg\" xmlns:xlink=\"http://www.w3.org/1999/xlink\">\n <metadata>\n  <rdf:RDF xmlns:cc=\"http://creativecommons.org/ns#\" xmlns:dc=\"http://purl.org/dc/elements/1.1/\" xmlns:rdf=\"http://www.w3.org/1999/02/22-rdf-syntax-ns#\">\n   <cc:Work>\n    <dc:type rdf:resource=\"http://purl.org/dc/dcmitype/StillImage\"/>\n    <dc:date>2020-11-22T17:10:41.599679</dc:date>\n    <dc:format>image/svg+xml</dc:format>\n    <dc:creator>\n     <cc:Agent>\n      <dc:title>Matplotlib v3.3.3, https://matplotlib.org/</dc:title>\n     </cc:Agent>\n    </dc:creator>\n   </cc:Work>\n  </rdf:RDF>\n </metadata>\n <defs>\n  <style type=\"text/css\">*{stroke-linecap:butt;stroke-linejoin:round;}</style>\n </defs>\n <g id=\"figure_1\">\n  <g id=\"patch_1\">\n   <path d=\"M 0 264.11625 \nL 394.424006 264.11625 \nL 394.424006 0 \nL 0 0 \nz\n\" style=\"fill:none;\"/>\n  </g>\n  <g id=\"axes_1\">\n   <g id=\"patch_2\">\n    <path d=\"M 46.965625 240.238125 \nL 381.765625 240.238125 \nL 381.765625 22.798125 \nL 46.965625 22.798125 \nz\n\" style=\"fill:#ffffff;\"/>\n   </g>\n   <g id=\"matplotlib.axis_1\">\n    <g id=\"xtick_1\">\n     <g id=\"line2d_1\">\n      <defs>\n       <path d=\"M 0 0 \nL 0 3.5 \n\" id=\"m0a80e099fd\" style=\"stroke:#000000;stroke-width:0.8;\"/>\n      </defs>\n      <g>\n       <use style=\"stroke:#000000;stroke-width:0.8;\" x=\"62.183807\" xlink:href=\"#m0a80e099fd\" y=\"240.238125\"/>\n      </g>\n     </g>\n     <g id=\"text_1\">\n      <!-- 1.000 -->\n      <g transform=\"translate(47.869744 254.836562)scale(0.1 -0.1)\">\n       <defs>\n        <path d=\"M 12.40625 8.296875 \nL 28.515625 8.296875 \nL 28.515625 63.921875 \nL 10.984375 60.40625 \nL 10.984375 69.390625 \nL 28.421875 72.90625 \nL 38.28125 72.90625 \nL 38.28125 8.296875 \nL 54.390625 8.296875 \nL 54.390625 0 \nL 12.40625 0 \nz\n\" id=\"DejaVuSans-49\"/>\n        <path d=\"M 10.6875 12.40625 \nL 21 12.40625 \nL 21 0 \nL 10.6875 0 \nz\n\" id=\"DejaVuSans-46\"/>\n        <path d=\"M 31.78125 66.40625 \nQ 24.171875 66.40625 20.328125 58.90625 \nQ 16.5 51.421875 16.5 36.375 \nQ 16.5 21.390625 20.328125 13.890625 \nQ 24.171875 6.390625 31.78125 6.390625 \nQ 39.453125 6.390625 43.28125 13.890625 \nQ 47.125 21.390625 47.125 36.375 \nQ 47.125 51.421875 43.28125 58.90625 \nQ 39.453125 66.40625 31.78125 66.40625 \nz\nM 31.78125 74.21875 \nQ 44.046875 74.21875 50.515625 64.515625 \nQ 56.984375 54.828125 56.984375 36.375 \nQ 56.984375 17.96875 50.515625 8.265625 \nQ 44.046875 -1.421875 31.78125 -1.421875 \nQ 19.53125 -1.421875 13.0625 8.265625 \nQ 6.59375 17.96875 6.59375 36.375 \nQ 6.59375 54.828125 13.0625 64.515625 \nQ 19.53125 74.21875 31.78125 74.21875 \nz\n\" id=\"DejaVuSans-48\"/>\n       </defs>\n       <use xlink:href=\"#DejaVuSans-49\"/>\n       <use x=\"63.623047\" xlink:href=\"#DejaVuSans-46\"/>\n       <use x=\"95.410156\" xlink:href=\"#DejaVuSans-48\"/>\n       <use x=\"159.033203\" xlink:href=\"#DejaVuSans-48\"/>\n       <use x=\"222.65625\" xlink:href=\"#DejaVuSans-48\"/>\n      </g>\n     </g>\n    </g>\n    <g id=\"xtick_2\">\n     <g id=\"line2d_2\">\n      <g>\n       <use style=\"stroke:#000000;stroke-width:0.8;\" x=\"112.91108\" xlink:href=\"#m0a80e099fd\" y=\"240.238125\"/>\n      </g>\n     </g>\n     <g id=\"text_2\">\n      <!-- 5.000 -->\n      <g transform=\"translate(98.597017 254.836562)scale(0.1 -0.1)\">\n       <defs>\n        <path d=\"M 10.796875 72.90625 \nL 49.515625 72.90625 \nL 49.515625 64.59375 \nL 19.828125 64.59375 \nL 19.828125 46.734375 \nQ 21.96875 47.46875 24.109375 47.828125 \nQ 26.265625 48.1875 28.421875 48.1875 \nQ 40.625 48.1875 47.75 41.5 \nQ 54.890625 34.8125 54.890625 23.390625 \nQ 54.890625 11.625 47.5625 5.09375 \nQ 40.234375 -1.421875 26.90625 -1.421875 \nQ 22.3125 -1.421875 17.546875 -0.640625 \nQ 12.796875 0.140625 7.71875 1.703125 \nL 7.71875 11.625 \nQ 12.109375 9.234375 16.796875 8.0625 \nQ 21.484375 6.890625 26.703125 6.890625 \nQ 35.15625 6.890625 40.078125 11.328125 \nQ 45.015625 15.765625 45.015625 23.390625 \nQ 45.015625 31 40.078125 35.4375 \nQ 35.15625 39.890625 26.703125 39.890625 \nQ 22.75 39.890625 18.8125 39.015625 \nQ 14.890625 38.140625 10.796875 36.28125 \nz\n\" id=\"DejaVuSans-53\"/>\n       </defs>\n       <use xlink:href=\"#DejaVuSans-53\"/>\n       <use x=\"63.623047\" xlink:href=\"#DejaVuSans-46\"/>\n       <use x=\"95.410156\" xlink:href=\"#DejaVuSans-48\"/>\n       <use x=\"159.033203\" xlink:href=\"#DejaVuSans-48\"/>\n       <use x=\"222.65625\" xlink:href=\"#DejaVuSans-48\"/>\n      </g>\n     </g>\n    </g>\n    <g id=\"xtick_3\">\n     <g id=\"line2d_3\">\n      <g>\n       <use style=\"stroke:#000000;stroke-width:0.8;\" x=\"163.638352\" xlink:href=\"#m0a80e099fd\" y=\"240.238125\"/>\n      </g>\n     </g>\n     <g id=\"text_3\">\n      <!-- 10.000 -->\n      <g transform=\"translate(146.14304 254.836562)scale(0.1 -0.1)\">\n       <use xlink:href=\"#DejaVuSans-49\"/>\n       <use x=\"63.623047\" xlink:href=\"#DejaVuSans-48\"/>\n       <use x=\"127.246094\" xlink:href=\"#DejaVuSans-46\"/>\n       <use x=\"159.033203\" xlink:href=\"#DejaVuSans-48\"/>\n       <use x=\"222.65625\" xlink:href=\"#DejaVuSans-48\"/>\n       <use x=\"286.279297\" xlink:href=\"#DejaVuSans-48\"/>\n      </g>\n     </g>\n    </g>\n    <g id=\"xtick_4\">\n     <g id=\"line2d_4\">\n      <g>\n       <use style=\"stroke:#000000;stroke-width:0.8;\" x=\"214.365625\" xlink:href=\"#m0a80e099fd\" y=\"240.238125\"/>\n      </g>\n     </g>\n     <g id=\"text_4\">\n      <!-- 20.000 -->\n      <g transform=\"translate(196.870313 254.836562)scale(0.1 -0.1)\">\n       <defs>\n        <path d=\"M 19.1875 8.296875 \nL 53.609375 8.296875 \nL 53.609375 0 \nL 7.328125 0 \nL 7.328125 8.296875 \nQ 12.9375 14.109375 22.625 23.890625 \nQ 32.328125 33.6875 34.8125 36.53125 \nQ 39.546875 41.84375 41.421875 45.53125 \nQ 43.3125 49.21875 43.3125 52.78125 \nQ 43.3125 58.59375 39.234375 62.25 \nQ 35.15625 65.921875 28.609375 65.921875 \nQ 23.96875 65.921875 18.8125 64.3125 \nQ 13.671875 62.703125 7.8125 59.421875 \nL 7.8125 69.390625 \nQ 13.765625 71.78125 18.9375 73 \nQ 24.125 74.21875 28.421875 74.21875 \nQ 39.75 74.21875 46.484375 68.546875 \nQ 53.21875 62.890625 53.21875 53.421875 \nQ 53.21875 48.921875 51.53125 44.890625 \nQ 49.859375 40.875 45.40625 35.40625 \nQ 44.1875 33.984375 37.640625 27.21875 \nQ 31.109375 20.453125 19.1875 8.296875 \nz\n\" id=\"DejaVuSans-50\"/>\n       </defs>\n       <use xlink:href=\"#DejaVuSans-50\"/>\n       <use x=\"63.623047\" xlink:href=\"#DejaVuSans-48\"/>\n       <use x=\"127.246094\" xlink:href=\"#DejaVuSans-46\"/>\n       <use x=\"159.033203\" xlink:href=\"#DejaVuSans-48\"/>\n       <use x=\"222.65625\" xlink:href=\"#DejaVuSans-48\"/>\n       <use x=\"286.279297\" xlink:href=\"#DejaVuSans-48\"/>\n      </g>\n     </g>\n    </g>\n    <g id=\"xtick_5\">\n     <g id=\"line2d_5\">\n      <g>\n       <use style=\"stroke:#000000;stroke-width:0.8;\" x=\"265.092898\" xlink:href=\"#m0a80e099fd\" y=\"240.238125\"/>\n      </g>\n     </g>\n     <g id=\"text_5\">\n      <!-- 50.000 -->\n      <g transform=\"translate(247.597585 254.836562)scale(0.1 -0.1)\">\n       <use xlink:href=\"#DejaVuSans-53\"/>\n       <use x=\"63.623047\" xlink:href=\"#DejaVuSans-48\"/>\n       <use x=\"127.246094\" xlink:href=\"#DejaVuSans-46\"/>\n       <use x=\"159.033203\" xlink:href=\"#DejaVuSans-48\"/>\n       <use x=\"222.65625\" xlink:href=\"#DejaVuSans-48\"/>\n       <use x=\"286.279297\" xlink:href=\"#DejaVuSans-48\"/>\n      </g>\n     </g>\n    </g>\n    <g id=\"xtick_6\">\n     <g id=\"line2d_6\">\n      <g>\n       <use style=\"stroke:#000000;stroke-width:0.8;\" x=\"315.82017\" xlink:href=\"#m0a80e099fd\" y=\"240.238125\"/>\n      </g>\n     </g>\n     <g id=\"text_6\">\n      <!-- 75.000 -->\n      <g transform=\"translate(298.324858 254.836562)scale(0.1 -0.1)\">\n       <defs>\n        <path d=\"M 8.203125 72.90625 \nL 55.078125 72.90625 \nL 55.078125 68.703125 \nL 28.609375 0 \nL 18.3125 0 \nL 43.21875 64.59375 \nL 8.203125 64.59375 \nz\n\" id=\"DejaVuSans-55\"/>\n       </defs>\n       <use xlink:href=\"#DejaVuSans-55\"/>\n       <use x=\"63.623047\" xlink:href=\"#DejaVuSans-53\"/>\n       <use x=\"127.246094\" xlink:href=\"#DejaVuSans-46\"/>\n       <use x=\"159.033203\" xlink:href=\"#DejaVuSans-48\"/>\n       <use x=\"222.65625\" xlink:href=\"#DejaVuSans-48\"/>\n       <use x=\"286.279297\" xlink:href=\"#DejaVuSans-48\"/>\n      </g>\n     </g>\n    </g>\n    <g id=\"xtick_7\">\n     <g id=\"line2d_7\">\n      <g>\n       <use style=\"stroke:#000000;stroke-width:0.8;\" x=\"366.547443\" xlink:href=\"#m0a80e099fd\" y=\"240.238125\"/>\n      </g>\n     </g>\n     <g id=\"text_7\">\n      <!-- 100.000 -->\n      <g transform=\"translate(345.870881 254.836562)scale(0.1 -0.1)\">\n       <use xlink:href=\"#DejaVuSans-49\"/>\n       <use x=\"63.623047\" xlink:href=\"#DejaVuSans-48\"/>\n       <use x=\"127.246094\" xlink:href=\"#DejaVuSans-48\"/>\n       <use x=\"190.869141\" xlink:href=\"#DejaVuSans-46\"/>\n       <use x=\"222.65625\" xlink:href=\"#DejaVuSans-48\"/>\n       <use x=\"286.279297\" xlink:href=\"#DejaVuSans-48\"/>\n       <use x=\"349.902344\" xlink:href=\"#DejaVuSans-48\"/>\n      </g>\n     </g>\n    </g>\n   </g>\n   <g id=\"matplotlib.axis_2\">\n    <g id=\"ytick_1\">\n     <g id=\"line2d_8\">\n      <defs>\n       <path d=\"M 0 0 \nL -3.5 0 \n\" id=\"m5f8c1e46f3\" style=\"stroke:#000000;stroke-width:0.8;\"/>\n      </defs>\n      <g>\n       <use style=\"stroke:#000000;stroke-width:0.8;\" x=\"46.965625\" xlink:href=\"#m5f8c1e46f3\" y=\"230.355516\"/>\n      </g>\n     </g>\n     <g id=\"text_8\">\n      <!-- 0 -->\n      <g transform=\"translate(33.603125 234.154735)scale(0.1 -0.1)\">\n       <use xlink:href=\"#DejaVuSans-48\"/>\n      </g>\n     </g>\n    </g>\n    <g id=\"ytick_2\">\n     <g id=\"line2d_9\">\n      <g>\n       <use style=\"stroke:#000000;stroke-width:0.8;\" x=\"46.965625\" xlink:href=\"#m5f8c1e46f3\" y=\"189.635001\"/>\n      </g>\n     </g>\n     <g id=\"text_9\">\n      <!-- 100 -->\n      <g transform=\"translate(20.878125 193.43422)scale(0.1 -0.1)\">\n       <use xlink:href=\"#DejaVuSans-49\"/>\n       <use x=\"63.623047\" xlink:href=\"#DejaVuSans-48\"/>\n       <use x=\"127.246094\" xlink:href=\"#DejaVuSans-48\"/>\n      </g>\n     </g>\n    </g>\n    <g id=\"ytick_3\">\n     <g id=\"line2d_10\">\n      <g>\n       <use style=\"stroke:#000000;stroke-width:0.8;\" x=\"46.965625\" xlink:href=\"#m5f8c1e46f3\" y=\"148.914486\"/>\n      </g>\n     </g>\n     <g id=\"text_10\">\n      <!-- 200 -->\n      <g transform=\"translate(20.878125 152.713705)scale(0.1 -0.1)\">\n       <use xlink:href=\"#DejaVuSans-50\"/>\n       <use x=\"63.623047\" xlink:href=\"#DejaVuSans-48\"/>\n       <use x=\"127.246094\" xlink:href=\"#DejaVuSans-48\"/>\n      </g>\n     </g>\n    </g>\n    <g id=\"ytick_4\">\n     <g id=\"line2d_11\">\n      <g>\n       <use style=\"stroke:#000000;stroke-width:0.8;\" x=\"46.965625\" xlink:href=\"#m5f8c1e46f3\" y=\"108.193971\"/>\n      </g>\n     </g>\n     <g id=\"text_11\">\n      <!-- 300 -->\n      <g transform=\"translate(20.878125 111.99319)scale(0.1 -0.1)\">\n       <defs>\n        <path d=\"M 40.578125 39.3125 \nQ 47.65625 37.796875 51.625 33 \nQ 55.609375 28.21875 55.609375 21.1875 \nQ 55.609375 10.40625 48.1875 4.484375 \nQ 40.765625 -1.421875 27.09375 -1.421875 \nQ 22.515625 -1.421875 17.65625 -0.515625 \nQ 12.796875 0.390625 7.625 2.203125 \nL 7.625 11.71875 \nQ 11.71875 9.328125 16.59375 8.109375 \nQ 21.484375 6.890625 26.8125 6.890625 \nQ 36.078125 6.890625 40.9375 10.546875 \nQ 45.796875 14.203125 45.796875 21.1875 \nQ 45.796875 27.640625 41.28125 31.265625 \nQ 36.765625 34.90625 28.71875 34.90625 \nL 20.21875 34.90625 \nL 20.21875 43.015625 \nL 29.109375 43.015625 \nQ 36.375 43.015625 40.234375 45.921875 \nQ 44.09375 48.828125 44.09375 54.296875 \nQ 44.09375 59.90625 40.109375 62.90625 \nQ 36.140625 65.921875 28.71875 65.921875 \nQ 24.65625 65.921875 20.015625 65.03125 \nQ 15.375 64.15625 9.8125 62.3125 \nL 9.8125 71.09375 \nQ 15.4375 72.65625 20.34375 73.4375 \nQ 25.25 74.21875 29.59375 74.21875 \nQ 40.828125 74.21875 47.359375 69.109375 \nQ 53.90625 64.015625 53.90625 55.328125 \nQ 53.90625 49.265625 50.4375 45.09375 \nQ 46.96875 40.921875 40.578125 39.3125 \nz\n\" id=\"DejaVuSans-51\"/>\n       </defs>\n       <use xlink:href=\"#DejaVuSans-51\"/>\n       <use x=\"63.623047\" xlink:href=\"#DejaVuSans-48\"/>\n       <use x=\"127.246094\" xlink:href=\"#DejaVuSans-48\"/>\n      </g>\n     </g>\n    </g>\n    <g id=\"ytick_5\">\n     <g id=\"line2d_12\">\n      <g>\n       <use style=\"stroke:#000000;stroke-width:0.8;\" x=\"46.965625\" xlink:href=\"#m5f8c1e46f3\" y=\"67.473456\"/>\n      </g>\n     </g>\n     <g id=\"text_12\">\n      <!-- 400 -->\n      <g transform=\"translate(20.878125 71.272675)scale(0.1 -0.1)\">\n       <defs>\n        <path d=\"M 37.796875 64.3125 \nL 12.890625 25.390625 \nL 37.796875 25.390625 \nz\nM 35.203125 72.90625 \nL 47.609375 72.90625 \nL 47.609375 25.390625 \nL 58.015625 25.390625 \nL 58.015625 17.1875 \nL 47.609375 17.1875 \nL 47.609375 0 \nL 37.796875 0 \nL 37.796875 17.1875 \nL 4.890625 17.1875 \nL 4.890625 26.703125 \nz\n\" id=\"DejaVuSans-52\"/>\n       </defs>\n       <use xlink:href=\"#DejaVuSans-52\"/>\n       <use x=\"63.623047\" xlink:href=\"#DejaVuSans-48\"/>\n       <use x=\"127.246094\" xlink:href=\"#DejaVuSans-48\"/>\n      </g>\n     </g>\n    </g>\n    <g id=\"ytick_6\">\n     <g id=\"line2d_13\">\n      <g>\n       <use style=\"stroke:#000000;stroke-width:0.8;\" x=\"46.965625\" xlink:href=\"#m5f8c1e46f3\" y=\"26.752942\"/>\n      </g>\n     </g>\n     <g id=\"text_13\">\n      <!-- 500 -->\n      <g transform=\"translate(20.878125 30.55216)scale(0.1 -0.1)\">\n       <use xlink:href=\"#DejaVuSans-53\"/>\n       <use x=\"63.623047\" xlink:href=\"#DejaVuSans-48\"/>\n       <use x=\"127.246094\" xlink:href=\"#DejaVuSans-48\"/>\n      </g>\n     </g>\n    </g>\n    <g id=\"text_14\">\n     <!-- Tempo (milisegundos) -->\n     <g transform=\"translate(14.798438 186.461875)rotate(-90)scale(0.1 -0.1)\">\n      <defs>\n       <path d=\"M -0.296875 72.90625 \nL 61.375 72.90625 \nL 61.375 64.59375 \nL 35.5 64.59375 \nL 35.5 0 \nL 25.59375 0 \nL 25.59375 64.59375 \nL -0.296875 64.59375 \nz\n\" id=\"DejaVuSans-84\"/>\n       <path d=\"M 56.203125 29.59375 \nL 56.203125 25.203125 \nL 14.890625 25.203125 \nQ 15.484375 15.921875 20.484375 11.0625 \nQ 25.484375 6.203125 34.421875 6.203125 \nQ 39.59375 6.203125 44.453125 7.46875 \nQ 49.3125 8.734375 54.109375 11.28125 \nL 54.109375 2.78125 \nQ 49.265625 0.734375 44.1875 -0.34375 \nQ 39.109375 -1.421875 33.890625 -1.421875 \nQ 20.796875 -1.421875 13.15625 6.1875 \nQ 5.515625 13.8125 5.515625 26.8125 \nQ 5.515625 40.234375 12.765625 48.109375 \nQ 20.015625 56 32.328125 56 \nQ 43.359375 56 49.78125 48.890625 \nQ 56.203125 41.796875 56.203125 29.59375 \nz\nM 47.21875 32.234375 \nQ 47.125 39.59375 43.09375 43.984375 \nQ 39.0625 48.390625 32.421875 48.390625 \nQ 24.90625 48.390625 20.390625 44.140625 \nQ 15.875 39.890625 15.1875 32.171875 \nz\n\" id=\"DejaVuSans-101\"/>\n       <path d=\"M 52 44.1875 \nQ 55.375 50.25 60.0625 53.125 \nQ 64.75 56 71.09375 56 \nQ 79.640625 56 84.28125 50.015625 \nQ 88.921875 44.046875 88.921875 33.015625 \nL 88.921875 0 \nL 79.890625 0 \nL 79.890625 32.71875 \nQ 79.890625 40.578125 77.09375 44.375 \nQ 74.3125 48.1875 68.609375 48.1875 \nQ 61.625 48.1875 57.5625 43.546875 \nQ 53.515625 38.921875 53.515625 30.90625 \nL 53.515625 0 \nL 44.484375 0 \nL 44.484375 32.71875 \nQ 44.484375 40.625 41.703125 44.40625 \nQ 38.921875 48.1875 33.109375 48.1875 \nQ 26.21875 48.1875 22.15625 43.53125 \nQ 18.109375 38.875 18.109375 30.90625 \nL 18.109375 0 \nL 9.078125 0 \nL 9.078125 54.6875 \nL 18.109375 54.6875 \nL 18.109375 46.1875 \nQ 21.1875 51.21875 25.484375 53.609375 \nQ 29.78125 56 35.6875 56 \nQ 41.65625 56 45.828125 52.96875 \nQ 50 49.953125 52 44.1875 \nz\n\" id=\"DejaVuSans-109\"/>\n       <path d=\"M 18.109375 8.203125 \nL 18.109375 -20.796875 \nL 9.078125 -20.796875 \nL 9.078125 54.6875 \nL 18.109375 54.6875 \nL 18.109375 46.390625 \nQ 20.953125 51.265625 25.265625 53.625 \nQ 29.59375 56 35.59375 56 \nQ 45.5625 56 51.78125 48.09375 \nQ 58.015625 40.1875 58.015625 27.296875 \nQ 58.015625 14.40625 51.78125 6.484375 \nQ 45.5625 -1.421875 35.59375 -1.421875 \nQ 29.59375 -1.421875 25.265625 0.953125 \nQ 20.953125 3.328125 18.109375 8.203125 \nz\nM 48.6875 27.296875 \nQ 48.6875 37.203125 44.609375 42.84375 \nQ 40.53125 48.484375 33.40625 48.484375 \nQ 26.265625 48.484375 22.1875 42.84375 \nQ 18.109375 37.203125 18.109375 27.296875 \nQ 18.109375 17.390625 22.1875 11.75 \nQ 26.265625 6.109375 33.40625 6.109375 \nQ 40.53125 6.109375 44.609375 11.75 \nQ 48.6875 17.390625 48.6875 27.296875 \nz\n\" id=\"DejaVuSans-112\"/>\n       <path d=\"M 30.609375 48.390625 \nQ 23.390625 48.390625 19.1875 42.75 \nQ 14.984375 37.109375 14.984375 27.296875 \nQ 14.984375 17.484375 19.15625 11.84375 \nQ 23.34375 6.203125 30.609375 6.203125 \nQ 37.796875 6.203125 41.984375 11.859375 \nQ 46.1875 17.53125 46.1875 27.296875 \nQ 46.1875 37.015625 41.984375 42.703125 \nQ 37.796875 48.390625 30.609375 48.390625 \nz\nM 30.609375 56 \nQ 42.328125 56 49.015625 48.375 \nQ 55.71875 40.765625 55.71875 27.296875 \nQ 55.71875 13.875 49.015625 6.21875 \nQ 42.328125 -1.421875 30.609375 -1.421875 \nQ 18.84375 -1.421875 12.171875 6.21875 \nQ 5.515625 13.875 5.515625 27.296875 \nQ 5.515625 40.765625 12.171875 48.375 \nQ 18.84375 56 30.609375 56 \nz\n\" id=\"DejaVuSans-111\"/>\n       <path id=\"DejaVuSans-32\"/>\n       <path d=\"M 31 75.875 \nQ 24.46875 64.65625 21.28125 53.65625 \nQ 18.109375 42.671875 18.109375 31.390625 \nQ 18.109375 20.125 21.3125 9.0625 \nQ 24.515625 -2 31 -13.1875 \nL 23.1875 -13.1875 \nQ 15.875 -1.703125 12.234375 9.375 \nQ 8.59375 20.453125 8.59375 31.390625 \nQ 8.59375 42.28125 12.203125 53.3125 \nQ 15.828125 64.359375 23.1875 75.875 \nz\n\" id=\"DejaVuSans-40\"/>\n       <path d=\"M 9.421875 54.6875 \nL 18.40625 54.6875 \nL 18.40625 0 \nL 9.421875 0 \nz\nM 9.421875 75.984375 \nL 18.40625 75.984375 \nL 18.40625 64.59375 \nL 9.421875 64.59375 \nz\n\" id=\"DejaVuSans-105\"/>\n       <path d=\"M 9.421875 75.984375 \nL 18.40625 75.984375 \nL 18.40625 0 \nL 9.421875 0 \nz\n\" id=\"DejaVuSans-108\"/>\n       <path d=\"M 44.28125 53.078125 \nL 44.28125 44.578125 \nQ 40.484375 46.53125 36.375 47.5 \nQ 32.28125 48.484375 27.875 48.484375 \nQ 21.1875 48.484375 17.84375 46.4375 \nQ 14.5 44.390625 14.5 40.28125 \nQ 14.5 37.15625 16.890625 35.375 \nQ 19.28125 33.59375 26.515625 31.984375 \nL 29.59375 31.296875 \nQ 39.15625 29.25 43.1875 25.515625 \nQ 47.21875 21.78125 47.21875 15.09375 \nQ 47.21875 7.46875 41.1875 3.015625 \nQ 35.15625 -1.421875 24.609375 -1.421875 \nQ 20.21875 -1.421875 15.453125 -0.5625 \nQ 10.6875 0.296875 5.421875 2 \nL 5.421875 11.28125 \nQ 10.40625 8.6875 15.234375 7.390625 \nQ 20.0625 6.109375 24.8125 6.109375 \nQ 31.15625 6.109375 34.5625 8.28125 \nQ 37.984375 10.453125 37.984375 14.40625 \nQ 37.984375 18.0625 35.515625 20.015625 \nQ 33.0625 21.96875 24.703125 23.78125 \nL 21.578125 24.515625 \nQ 13.234375 26.265625 9.515625 29.90625 \nQ 5.8125 33.546875 5.8125 39.890625 \nQ 5.8125 47.609375 11.28125 51.796875 \nQ 16.75 56 26.8125 56 \nQ 31.78125 56 36.171875 55.265625 \nQ 40.578125 54.546875 44.28125 53.078125 \nz\n\" id=\"DejaVuSans-115\"/>\n       <path d=\"M 45.40625 27.984375 \nQ 45.40625 37.75 41.375 43.109375 \nQ 37.359375 48.484375 30.078125 48.484375 \nQ 22.859375 48.484375 18.828125 43.109375 \nQ 14.796875 37.75 14.796875 27.984375 \nQ 14.796875 18.265625 18.828125 12.890625 \nQ 22.859375 7.515625 30.078125 7.515625 \nQ 37.359375 7.515625 41.375 12.890625 \nQ 45.40625 18.265625 45.40625 27.984375 \nz\nM 54.390625 6.78125 \nQ 54.390625 -7.171875 48.1875 -13.984375 \nQ 42 -20.796875 29.203125 -20.796875 \nQ 24.46875 -20.796875 20.265625 -20.09375 \nQ 16.0625 -19.390625 12.109375 -17.921875 \nL 12.109375 -9.1875 \nQ 16.0625 -11.328125 19.921875 -12.34375 \nQ 23.78125 -13.375 27.78125 -13.375 \nQ 36.625 -13.375 41.015625 -8.765625 \nQ 45.40625 -4.15625 45.40625 5.171875 \nL 45.40625 9.625 \nQ 42.625 4.78125 38.28125 2.390625 \nQ 33.9375 0 27.875 0 \nQ 17.828125 0 11.671875 7.65625 \nQ 5.515625 15.328125 5.515625 27.984375 \nQ 5.515625 40.671875 11.671875 48.328125 \nQ 17.828125 56 27.875 56 \nQ 33.9375 56 38.28125 53.609375 \nQ 42.625 51.21875 45.40625 46.390625 \nL 45.40625 54.6875 \nL 54.390625 54.6875 \nz\n\" id=\"DejaVuSans-103\"/>\n       <path d=\"M 8.5 21.578125 \nL 8.5 54.6875 \nL 17.484375 54.6875 \nL 17.484375 21.921875 \nQ 17.484375 14.15625 20.5 10.265625 \nQ 23.53125 6.390625 29.59375 6.390625 \nQ 36.859375 6.390625 41.078125 11.03125 \nQ 45.3125 15.671875 45.3125 23.6875 \nL 45.3125 54.6875 \nL 54.296875 54.6875 \nL 54.296875 0 \nL 45.3125 0 \nL 45.3125 8.40625 \nQ 42.046875 3.421875 37.71875 1 \nQ 33.40625 -1.421875 27.6875 -1.421875 \nQ 18.265625 -1.421875 13.375 4.4375 \nQ 8.5 10.296875 8.5 21.578125 \nz\nM 31.109375 56 \nz\n\" id=\"DejaVuSans-117\"/>\n       <path d=\"M 54.890625 33.015625 \nL 54.890625 0 \nL 45.90625 0 \nL 45.90625 32.71875 \nQ 45.90625 40.484375 42.875 44.328125 \nQ 39.84375 48.1875 33.796875 48.1875 \nQ 26.515625 48.1875 22.3125 43.546875 \nQ 18.109375 38.921875 18.109375 30.90625 \nL 18.109375 0 \nL 9.078125 0 \nL 9.078125 54.6875 \nL 18.109375 54.6875 \nL 18.109375 46.1875 \nQ 21.34375 51.125 25.703125 53.5625 \nQ 30.078125 56 35.796875 56 \nQ 45.21875 56 50.046875 50.171875 \nQ 54.890625 44.34375 54.890625 33.015625 \nz\n\" id=\"DejaVuSans-110\"/>\n       <path d=\"M 45.40625 46.390625 \nL 45.40625 75.984375 \nL 54.390625 75.984375 \nL 54.390625 0 \nL 45.40625 0 \nL 45.40625 8.203125 \nQ 42.578125 3.328125 38.25 0.953125 \nQ 33.9375 -1.421875 27.875 -1.421875 \nQ 17.96875 -1.421875 11.734375 6.484375 \nQ 5.515625 14.40625 5.515625 27.296875 \nQ 5.515625 40.1875 11.734375 48.09375 \nQ 17.96875 56 27.875 56 \nQ 33.9375 56 38.25 53.625 \nQ 42.578125 51.265625 45.40625 46.390625 \nz\nM 14.796875 27.296875 \nQ 14.796875 17.390625 18.875 11.75 \nQ 22.953125 6.109375 30.078125 6.109375 \nQ 37.203125 6.109375 41.296875 11.75 \nQ 45.40625 17.390625 45.40625 27.296875 \nQ 45.40625 37.203125 41.296875 42.84375 \nQ 37.203125 48.484375 30.078125 48.484375 \nQ 22.953125 48.484375 18.875 42.84375 \nQ 14.796875 37.203125 14.796875 27.296875 \nz\n\" id=\"DejaVuSans-100\"/>\n       <path d=\"M 8.015625 75.875 \nL 15.828125 75.875 \nQ 23.140625 64.359375 26.78125 53.3125 \nQ 30.421875 42.28125 30.421875 31.390625 \nQ 30.421875 20.453125 26.78125 9.375 \nQ 23.140625 -1.703125 15.828125 -13.1875 \nL 8.015625 -13.1875 \nQ 14.5 -2 17.703125 9.0625 \nQ 20.90625 20.125 20.90625 31.390625 \nQ 20.90625 42.671875 17.703125 53.65625 \nQ 14.5 64.65625 8.015625 75.875 \nz\n\" id=\"DejaVuSans-41\"/>\n      </defs>\n      <use xlink:href=\"#DejaVuSans-84\"/>\n      <use x=\"44.083984\" xlink:href=\"#DejaVuSans-101\"/>\n      <use x=\"105.607422\" xlink:href=\"#DejaVuSans-109\"/>\n      <use x=\"203.019531\" xlink:href=\"#DejaVuSans-112\"/>\n      <use x=\"266.496094\" xlink:href=\"#DejaVuSans-111\"/>\n      <use x=\"327.677734\" xlink:href=\"#DejaVuSans-32\"/>\n      <use x=\"359.464844\" xlink:href=\"#DejaVuSans-40\"/>\n      <use x=\"398.478516\" xlink:href=\"#DejaVuSans-109\"/>\n      <use x=\"495.890625\" xlink:href=\"#DejaVuSans-105\"/>\n      <use x=\"523.673828\" xlink:href=\"#DejaVuSans-108\"/>\n      <use x=\"551.457031\" xlink:href=\"#DejaVuSans-105\"/>\n      <use x=\"579.240234\" xlink:href=\"#DejaVuSans-115\"/>\n      <use x=\"631.339844\" xlink:href=\"#DejaVuSans-101\"/>\n      <use x=\"692.863281\" xlink:href=\"#DejaVuSans-103\"/>\n      <use x=\"756.339844\" xlink:href=\"#DejaVuSans-117\"/>\n      <use x=\"819.71875\" xlink:href=\"#DejaVuSans-110\"/>\n      <use x=\"883.097656\" xlink:href=\"#DejaVuSans-100\"/>\n      <use x=\"946.574219\" xlink:href=\"#DejaVuSans-111\"/>\n      <use x=\"1007.755859\" xlink:href=\"#DejaVuSans-115\"/>\n      <use x=\"1059.855469\" xlink:href=\"#DejaVuSans-41\"/>\n     </g>\n    </g>\n   </g>\n   <g id=\"line2d_14\">\n    <path clip-path=\"url(#pb382dfd7c1)\" d=\"M 62.183807 230.333993 \nL 112.91108 229.836903 \nL 163.638352 228.542904 \nL 214.365625 222.241212 \nL 265.092898 177.478123 \nL 315.82017 121.221963 \nL 366.547443 32.681761 \n\" style=\"fill:none;stroke:#1f77b4;stroke-linecap:square;stroke-width:1.5;\"/>\n   </g>\n   <g id=\"line2d_15\">\n    <path clip-path=\"url(#pb382dfd7c1)\" d=\"M 62.183807 230.354489 \nL 112.91108 230.349073 \nL 163.638352 230.341552 \nL 214.365625 230.32658 \nL 265.092898 230.273812 \nL 315.82017 230.223494 \nL 366.547443 230.172144 \n\" style=\"fill:none;stroke:#ff7f0e;stroke-linecap:square;stroke-width:1.5;\"/>\n   </g>\n   <g id=\"line2d_16\">\n    <path clip-path=\"url(#pb382dfd7c1)\" d=\"M 62.183807 230.35303 \nL 112.91108 230.339886 \nL 163.638352 230.326824 \nL 214.365625 230.289906 \nL 265.092898 230.107214 \nL 315.82017 230.015224 \nL 366.547443 229.837828 \n\" style=\"fill:none;stroke:#2ca02c;stroke-linecap:square;stroke-width:1.5;\"/>\n   </g>\n   <g id=\"line2d_17\">\n    <path clip-path=\"url(#pb382dfd7c1)\" d=\"M 62.183807 230.133925 \nL 112.91108 229.210866 \nL 163.638352 228.055401 \nL 214.365625 225.9494 \nL 265.092898 219.096883 \nL 315.82017 213.035554 \nL 366.547443 206.717793 \n\" style=\"fill:none;stroke:#d62728;stroke-linecap:square;stroke-width:1.5;\"/>\n   </g>\n   <g id=\"patch_3\">\n    <path d=\"M 46.965625 240.238125 \nL 46.965625 22.798125 \n\" style=\"fill:none;stroke:#000000;stroke-linecap:square;stroke-linejoin:miter;stroke-width:0.8;\"/>\n   </g>\n   <g id=\"patch_4\">\n    <path d=\"M 381.765625 240.238125 \nL 381.765625 22.798125 \n\" style=\"fill:none;stroke:#000000;stroke-linecap:square;stroke-linejoin:miter;stroke-width:0.8;\"/>\n   </g>\n   <g id=\"patch_5\">\n    <path d=\"M 46.965625 240.238125 \nL 381.765625 240.238125 \n\" style=\"fill:none;stroke:#000000;stroke-linecap:square;stroke-linejoin:miter;stroke-width:0.8;\"/>\n   </g>\n   <g id=\"patch_6\">\n    <path d=\"M 46.965625 22.798125 \nL 381.765625 22.798125 \n\" style=\"fill:none;stroke:#000000;stroke-linecap:square;stroke-linejoin:miter;stroke-width:0.8;\"/>\n   </g>\n   <g id=\"text_15\">\n    <!-- Tempo de cada método x Conjuntos aleatórios -->\n    <g transform=\"translate(74.958438 16.798125)scale(0.12 -0.12)\">\n     <defs>\n      <path d=\"M 48.78125 52.59375 \nL 48.78125 44.1875 \nQ 44.96875 46.296875 41.140625 47.34375 \nQ 37.3125 48.390625 33.40625 48.390625 \nQ 24.65625 48.390625 19.8125 42.84375 \nQ 14.984375 37.3125 14.984375 27.296875 \nQ 14.984375 17.28125 19.8125 11.734375 \nQ 24.65625 6.203125 33.40625 6.203125 \nQ 37.3125 6.203125 41.140625 7.25 \nQ 44.96875 8.296875 48.78125 10.40625 \nL 48.78125 2.09375 \nQ 45.015625 0.34375 40.984375 -0.53125 \nQ 36.96875 -1.421875 32.421875 -1.421875 \nQ 20.0625 -1.421875 12.78125 6.34375 \nQ 5.515625 14.109375 5.515625 27.296875 \nQ 5.515625 40.671875 12.859375 48.328125 \nQ 20.21875 56 33.015625 56 \nQ 37.15625 56 41.109375 55.140625 \nQ 45.0625 54.296875 48.78125 52.59375 \nz\n\" id=\"DejaVuSans-99\"/>\n      <path d=\"M 34.28125 27.484375 \nQ 23.390625 27.484375 19.1875 25 \nQ 14.984375 22.515625 14.984375 16.5 \nQ 14.984375 11.71875 18.140625 8.90625 \nQ 21.296875 6.109375 26.703125 6.109375 \nQ 34.1875 6.109375 38.703125 11.40625 \nQ 43.21875 16.703125 43.21875 25.484375 \nL 43.21875 27.484375 \nz\nM 52.203125 31.203125 \nL 52.203125 0 \nL 43.21875 0 \nL 43.21875 8.296875 \nQ 40.140625 3.328125 35.546875 0.953125 \nQ 30.953125 -1.421875 24.3125 -1.421875 \nQ 15.921875 -1.421875 10.953125 3.296875 \nQ 6 8.015625 6 15.921875 \nQ 6 25.140625 12.171875 29.828125 \nQ 18.359375 34.515625 30.609375 34.515625 \nL 43.21875 34.515625 \nL 43.21875 35.40625 \nQ 43.21875 41.609375 39.140625 45 \nQ 35.0625 48.390625 27.6875 48.390625 \nQ 23 48.390625 18.546875 47.265625 \nQ 14.109375 46.140625 10.015625 43.890625 \nL 10.015625 52.203125 \nQ 14.9375 54.109375 19.578125 55.046875 \nQ 24.21875 56 28.609375 56 \nQ 40.484375 56 46.34375 49.84375 \nQ 52.203125 43.703125 52.203125 31.203125 \nz\n\" id=\"DejaVuSans-97\"/>\n      <path d=\"M 56.203125 29.59375 \nL 56.203125 25.203125 \nL 14.890625 25.203125 \nQ 15.484375 15.921875 20.484375 11.0625 \nQ 25.484375 6.203125 34.421875 6.203125 \nQ 39.59375 6.203125 44.453125 7.46875 \nQ 49.3125 8.734375 54.109375 11.28125 \nL 54.109375 2.78125 \nQ 49.265625 0.734375 44.1875 -0.34375 \nQ 39.109375 -1.421875 33.890625 -1.421875 \nQ 20.796875 -1.421875 13.15625 6.1875 \nQ 5.515625 13.8125 5.515625 26.8125 \nQ 5.515625 40.234375 12.765625 48.109375 \nQ 20.015625 56 32.328125 56 \nQ 43.359375 56 49.78125 48.890625 \nQ 56.203125 41.796875 56.203125 29.59375 \nz\nM 47.21875 32.234375 \nQ 47.125 39.59375 43.09375 43.984375 \nQ 39.0625 48.390625 32.421875 48.390625 \nQ 24.90625 48.390625 20.390625 44.140625 \nQ 15.875 39.890625 15.1875 32.171875 \nz\nM 38.53125 79.984375 \nL 48.25 79.984375 \nL 32.34375 61.625 \nL 24.859375 61.625 \nz\n\" id=\"DejaVuSans-233\"/>\n      <path d=\"M 18.3125 70.21875 \nL 18.3125 54.6875 \nL 36.8125 54.6875 \nL 36.8125 47.703125 \nL 18.3125 47.703125 \nL 18.3125 18.015625 \nQ 18.3125 11.328125 20.140625 9.421875 \nQ 21.96875 7.515625 27.59375 7.515625 \nL 36.8125 7.515625 \nL 36.8125 0 \nL 27.59375 0 \nQ 17.1875 0 13.234375 3.875 \nQ 9.28125 7.765625 9.28125 18.015625 \nL 9.28125 47.703125 \nL 2.6875 47.703125 \nL 2.6875 54.6875 \nL 9.28125 54.6875 \nL 9.28125 70.21875 \nz\n\" id=\"DejaVuSans-116\"/>\n      <path d=\"M 54.890625 54.6875 \nL 35.109375 28.078125 \nL 55.90625 0 \nL 45.3125 0 \nL 29.390625 21.484375 \nL 13.484375 0 \nL 2.875 0 \nL 24.125 28.609375 \nL 4.6875 54.6875 \nL 15.28125 54.6875 \nL 29.78125 35.203125 \nL 44.28125 54.6875 \nz\n\" id=\"DejaVuSans-120\"/>\n      <path d=\"M 64.40625 67.28125 \nL 64.40625 56.890625 \nQ 59.421875 61.53125 53.78125 63.8125 \nQ 48.140625 66.109375 41.796875 66.109375 \nQ 29.296875 66.109375 22.65625 58.46875 \nQ 16.015625 50.828125 16.015625 36.375 \nQ 16.015625 21.96875 22.65625 14.328125 \nQ 29.296875 6.6875 41.796875 6.6875 \nQ 48.140625 6.6875 53.78125 8.984375 \nQ 59.421875 11.28125 64.40625 15.921875 \nL 64.40625 5.609375 \nQ 59.234375 2.09375 53.4375 0.328125 \nQ 47.65625 -1.421875 41.21875 -1.421875 \nQ 24.65625 -1.421875 15.125 8.703125 \nQ 5.609375 18.84375 5.609375 36.375 \nQ 5.609375 53.953125 15.125 64.078125 \nQ 24.65625 74.21875 41.21875 74.21875 \nQ 47.75 74.21875 53.53125 72.484375 \nQ 59.328125 70.75 64.40625 67.28125 \nz\n\" id=\"DejaVuSans-67\"/>\n      <path d=\"M 9.421875 54.6875 \nL 18.40625 54.6875 \nL 18.40625 -0.984375 \nQ 18.40625 -11.421875 14.421875 -16.109375 \nQ 10.453125 -20.796875 1.609375 -20.796875 \nL -1.8125 -20.796875 \nL -1.8125 -13.1875 \nL 0.59375 -13.1875 \nQ 5.71875 -13.1875 7.5625 -10.8125 \nQ 9.421875 -8.453125 9.421875 -0.984375 \nz\nM 9.421875 75.984375 \nL 18.40625 75.984375 \nL 18.40625 64.59375 \nL 9.421875 64.59375 \nz\n\" id=\"DejaVuSans-106\"/>\n      <path d=\"M 30.609375 48.390625 \nQ 23.390625 48.390625 19.1875 42.75 \nQ 14.984375 37.109375 14.984375 27.296875 \nQ 14.984375 17.484375 19.15625 11.84375 \nQ 23.34375 6.203125 30.609375 6.203125 \nQ 37.796875 6.203125 41.984375 11.859375 \nQ 46.1875 17.53125 46.1875 27.296875 \nQ 46.1875 37.015625 41.984375 42.703125 \nQ 37.796875 48.390625 30.609375 48.390625 \nz\nM 30.609375 56 \nQ 42.328125 56 49.015625 48.375 \nQ 55.71875 40.765625 55.71875 27.296875 \nQ 55.71875 13.875 49.015625 6.21875 \nQ 42.328125 -1.421875 30.609375 -1.421875 \nQ 18.84375 -1.421875 12.171875 6.21875 \nQ 5.515625 13.875 5.515625 27.296875 \nQ 5.515625 40.765625 12.171875 48.375 \nQ 18.84375 56 30.609375 56 \nz\nM 37.40625 79.984375 \nL 47.125 79.984375 \nL 31.21875 61.625 \nL 23.734375 61.625 \nz\n\" id=\"DejaVuSans-243\"/>\n      <path d=\"M 41.109375 46.296875 \nQ 39.59375 47.171875 37.8125 47.578125 \nQ 36.03125 48 33.890625 48 \nQ 26.265625 48 22.1875 43.046875 \nQ 18.109375 38.09375 18.109375 28.8125 \nL 18.109375 0 \nL 9.078125 0 \nL 9.078125 54.6875 \nL 18.109375 54.6875 \nL 18.109375 46.1875 \nQ 20.953125 51.171875 25.484375 53.578125 \nQ 30.03125 56 36.53125 56 \nQ 37.453125 56 38.578125 55.875 \nQ 39.703125 55.765625 41.0625 55.515625 \nz\n\" id=\"DejaVuSans-114\"/>\n     </defs>\n     <use xlink:href=\"#DejaVuSans-84\"/>\n     <use x=\"44.083984\" xlink:href=\"#DejaVuSans-101\"/>\n     <use x=\"105.607422\" xlink:href=\"#DejaVuSans-109\"/>\n     <use x=\"203.019531\" xlink:href=\"#DejaVuSans-112\"/>\n     <use x=\"266.496094\" xlink:href=\"#DejaVuSans-111\"/>\n     <use x=\"327.677734\" xlink:href=\"#DejaVuSans-32\"/>\n     <use x=\"359.464844\" xlink:href=\"#DejaVuSans-100\"/>\n     <use x=\"422.941406\" xlink:href=\"#DejaVuSans-101\"/>\n     <use x=\"484.464844\" xlink:href=\"#DejaVuSans-32\"/>\n     <use x=\"516.251953\" xlink:href=\"#DejaVuSans-99\"/>\n     <use x=\"571.232422\" xlink:href=\"#DejaVuSans-97\"/>\n     <use x=\"632.511719\" xlink:href=\"#DejaVuSans-100\"/>\n     <use x=\"695.988281\" xlink:href=\"#DejaVuSans-97\"/>\n     <use x=\"757.267578\" xlink:href=\"#DejaVuSans-32\"/>\n     <use x=\"789.054688\" xlink:href=\"#DejaVuSans-109\"/>\n     <use x=\"886.466797\" xlink:href=\"#DejaVuSans-233\"/>\n     <use x=\"947.990234\" xlink:href=\"#DejaVuSans-116\"/>\n     <use x=\"987.199219\" xlink:href=\"#DejaVuSans-111\"/>\n     <use x=\"1048.380859\" xlink:href=\"#DejaVuSans-100\"/>\n     <use x=\"1111.857422\" xlink:href=\"#DejaVuSans-111\"/>\n     <use x=\"1173.039062\" xlink:href=\"#DejaVuSans-32\"/>\n     <use x=\"1204.826172\" xlink:href=\"#DejaVuSans-120\"/>\n     <use x=\"1264.005859\" xlink:href=\"#DejaVuSans-32\"/>\n     <use x=\"1295.792969\" xlink:href=\"#DejaVuSans-67\"/>\n     <use x=\"1365.617188\" xlink:href=\"#DejaVuSans-111\"/>\n     <use x=\"1426.798828\" xlink:href=\"#DejaVuSans-110\"/>\n     <use x=\"1490.177734\" xlink:href=\"#DejaVuSans-106\"/>\n     <use x=\"1517.960938\" xlink:href=\"#DejaVuSans-117\"/>\n     <use x=\"1581.339844\" xlink:href=\"#DejaVuSans-110\"/>\n     <use x=\"1644.71875\" xlink:href=\"#DejaVuSans-116\"/>\n     <use x=\"1683.927734\" xlink:href=\"#DejaVuSans-111\"/>\n     <use x=\"1745.109375\" xlink:href=\"#DejaVuSans-115\"/>\n     <use x=\"1797.208984\" xlink:href=\"#DejaVuSans-32\"/>\n     <use x=\"1828.996094\" xlink:href=\"#DejaVuSans-97\"/>\n     <use x=\"1890.275391\" xlink:href=\"#DejaVuSans-108\"/>\n     <use x=\"1918.058594\" xlink:href=\"#DejaVuSans-101\"/>\n     <use x=\"1979.582031\" xlink:href=\"#DejaVuSans-97\"/>\n     <use x=\"2040.861328\" xlink:href=\"#DejaVuSans-116\"/>\n     <use x=\"2080.070312\" xlink:href=\"#DejaVuSans-243\"/>\n     <use x=\"2141.251953\" xlink:href=\"#DejaVuSans-114\"/>\n     <use x=\"2182.365234\" xlink:href=\"#DejaVuSans-105\"/>\n     <use x=\"2210.148438\" xlink:href=\"#DejaVuSans-111\"/>\n     <use x=\"2271.330078\" xlink:href=\"#DejaVuSans-115\"/>\n    </g>\n   </g>\n   <g id=\"legend_1\">\n    <g id=\"patch_7\">\n     <path d=\"M 53.965625 89.510625 \nL 155.728125 89.510625 \nQ 157.728125 89.510625 157.728125 87.510625 \nL 157.728125 29.798125 \nQ 157.728125 27.798125 155.728125 27.798125 \nL 53.965625 27.798125 \nQ 51.965625 27.798125 51.965625 29.798125 \nL 51.965625 87.510625 \nQ 51.965625 89.510625 53.965625 89.510625 \nz\n\" style=\"fill:#ffffff;opacity:0.8;stroke:#cccccc;stroke-linejoin:miter;\"/>\n    </g>\n    <g id=\"line2d_18\">\n     <path d=\"M 55.965625 35.896562 \nL 75.965625 35.896562 \n\" style=\"fill:none;stroke:#1f77b4;stroke-linecap:square;stroke-width:1.5;\"/>\n    </g>\n    <g id=\"line2d_19\"/>\n    <g id=\"text_16\">\n     <!-- Selection Sort -->\n     <g transform=\"translate(83.965625 39.396562)scale(0.1 -0.1)\">\n      <defs>\n       <path d=\"M 53.515625 70.515625 \nL 53.515625 60.890625 \nQ 47.90625 63.578125 42.921875 64.890625 \nQ 37.9375 66.21875 33.296875 66.21875 \nQ 25.25 66.21875 20.875 63.09375 \nQ 16.5 59.96875 16.5 54.203125 \nQ 16.5 49.359375 19.40625 46.890625 \nQ 22.3125 44.4375 30.421875 42.921875 \nL 36.375 41.703125 \nQ 47.40625 39.59375 52.65625 34.296875 \nQ 57.90625 29 57.90625 20.125 \nQ 57.90625 9.515625 50.796875 4.046875 \nQ 43.703125 -1.421875 29.984375 -1.421875 \nQ 24.8125 -1.421875 18.96875 -0.25 \nQ 13.140625 0.921875 6.890625 3.21875 \nL 6.890625 13.375 \nQ 12.890625 10.015625 18.65625 8.296875 \nQ 24.421875 6.59375 29.984375 6.59375 \nQ 38.421875 6.59375 43.015625 9.90625 \nQ 47.609375 13.234375 47.609375 19.390625 \nQ 47.609375 24.75 44.3125 27.78125 \nQ 41.015625 30.8125 33.5 32.328125 \nL 27.484375 33.5 \nQ 16.453125 35.6875 11.515625 40.375 \nQ 6.59375 45.0625 6.59375 53.421875 \nQ 6.59375 63.09375 13.40625 68.65625 \nQ 20.21875 74.21875 32.171875 74.21875 \nQ 37.3125 74.21875 42.625 73.28125 \nQ 47.953125 72.359375 53.515625 70.515625 \nz\n\" id=\"DejaVuSans-83\"/>\n      </defs>\n      <use xlink:href=\"#DejaVuSans-83\"/>\n      <use x=\"63.476562\" xlink:href=\"#DejaVuSans-101\"/>\n      <use x=\"125\" xlink:href=\"#DejaVuSans-108\"/>\n      <use x=\"152.783203\" xlink:href=\"#DejaVuSans-101\"/>\n      <use x=\"214.306641\" xlink:href=\"#DejaVuSans-99\"/>\n      <use x=\"269.287109\" xlink:href=\"#DejaVuSans-116\"/>\n      <use x=\"308.496094\" xlink:href=\"#DejaVuSans-105\"/>\n      <use x=\"336.279297\" xlink:href=\"#DejaVuSans-111\"/>\n      <use x=\"397.460938\" xlink:href=\"#DejaVuSans-110\"/>\n      <use x=\"460.839844\" xlink:href=\"#DejaVuSans-32\"/>\n      <use x=\"492.626953\" xlink:href=\"#DejaVuSans-83\"/>\n      <use x=\"556.103516\" xlink:href=\"#DejaVuSans-111\"/>\n      <use x=\"617.285156\" xlink:href=\"#DejaVuSans-114\"/>\n      <use x=\"658.398438\" xlink:href=\"#DejaVuSans-116\"/>\n     </g>\n    </g>\n    <g id=\"line2d_20\">\n     <path d=\"M 55.965625 50.574687 \nL 75.965625 50.574687 \n\" style=\"fill:none;stroke:#ff7f0e;stroke-linecap:square;stroke-width:1.5;\"/>\n    </g>\n    <g id=\"line2d_21\"/>\n    <g id=\"text_17\">\n     <!-- Quick Sort -->\n     <g transform=\"translate(83.965625 54.074687)scale(0.1 -0.1)\">\n      <defs>\n       <path d=\"M 39.40625 66.21875 \nQ 28.65625 66.21875 22.328125 58.203125 \nQ 16.015625 50.203125 16.015625 36.375 \nQ 16.015625 22.609375 22.328125 14.59375 \nQ 28.65625 6.59375 39.40625 6.59375 \nQ 50.140625 6.59375 56.421875 14.59375 \nQ 62.703125 22.609375 62.703125 36.375 \nQ 62.703125 50.203125 56.421875 58.203125 \nQ 50.140625 66.21875 39.40625 66.21875 \nz\nM 53.21875 1.3125 \nL 66.21875 -12.890625 \nL 54.296875 -12.890625 \nL 43.5 -1.21875 \nQ 41.890625 -1.3125 41.03125 -1.359375 \nQ 40.1875 -1.421875 39.40625 -1.421875 \nQ 24.03125 -1.421875 14.8125 8.859375 \nQ 5.609375 19.140625 5.609375 36.375 \nQ 5.609375 53.65625 14.8125 63.9375 \nQ 24.03125 74.21875 39.40625 74.21875 \nQ 54.734375 74.21875 63.90625 63.9375 \nQ 73.09375 53.65625 73.09375 36.375 \nQ 73.09375 23.6875 67.984375 14.640625 \nQ 62.890625 5.609375 53.21875 1.3125 \nz\n\" id=\"DejaVuSans-81\"/>\n       <path d=\"M 9.078125 75.984375 \nL 18.109375 75.984375 \nL 18.109375 31.109375 \nL 44.921875 54.6875 \nL 56.390625 54.6875 \nL 27.390625 29.109375 \nL 57.625 0 \nL 45.90625 0 \nL 18.109375 26.703125 \nL 18.109375 0 \nL 9.078125 0 \nz\n\" id=\"DejaVuSans-107\"/>\n      </defs>\n      <use xlink:href=\"#DejaVuSans-81\"/>\n      <use x=\"78.710938\" xlink:href=\"#DejaVuSans-117\"/>\n      <use x=\"142.089844\" xlink:href=\"#DejaVuSans-105\"/>\n      <use x=\"169.873047\" xlink:href=\"#DejaVuSans-99\"/>\n      <use x=\"224.853516\" xlink:href=\"#DejaVuSans-107\"/>\n      <use x=\"282.763672\" xlink:href=\"#DejaVuSans-32\"/>\n      <use x=\"314.550781\" xlink:href=\"#DejaVuSans-83\"/>\n      <use x=\"378.027344\" xlink:href=\"#DejaVuSans-111\"/>\n      <use x=\"439.208984\" xlink:href=\"#DejaVuSans-114\"/>\n      <use x=\"480.322266\" xlink:href=\"#DejaVuSans-116\"/>\n     </g>\n    </g>\n    <g id=\"line2d_22\">\n     <path d=\"M 55.965625 65.252812 \nL 75.965625 65.252812 \n\" style=\"fill:none;stroke:#2ca02c;stroke-linecap:square;stroke-width:1.5;\"/>\n    </g>\n    <g id=\"line2d_23\"/>\n    <g id=\"text_18\">\n     <!-- Tree Sort -->\n     <g transform=\"translate(83.965625 68.752812)scale(0.1 -0.1)\">\n      <use xlink:href=\"#DejaVuSans-84\"/>\n      <use x=\"46.333984\" xlink:href=\"#DejaVuSans-114\"/>\n      <use x=\"85.197266\" xlink:href=\"#DejaVuSans-101\"/>\n      <use x=\"146.720703\" xlink:href=\"#DejaVuSans-101\"/>\n      <use x=\"208.244141\" xlink:href=\"#DejaVuSans-32\"/>\n      <use x=\"240.03125\" xlink:href=\"#DejaVuSans-83\"/>\n      <use x=\"303.507812\" xlink:href=\"#DejaVuSans-111\"/>\n      <use x=\"364.689453\" xlink:href=\"#DejaVuSans-114\"/>\n      <use x=\"405.802734\" xlink:href=\"#DejaVuSans-116\"/>\n     </g>\n    </g>\n    <g id=\"line2d_24\">\n     <path d=\"M 55.965625 79.930937 \nL 75.965625 79.930937 \n\" style=\"fill:none;stroke:#d62728;stroke-linecap:square;stroke-width:1.5;\"/>\n    </g>\n    <g id=\"line2d_25\"/>\n    <g id=\"text_19\">\n     <!-- Radix Sort -->\n     <g transform=\"translate(83.965625 83.430937)scale(0.1 -0.1)\">\n      <defs>\n       <path d=\"M 44.390625 34.1875 \nQ 47.5625 33.109375 50.5625 29.59375 \nQ 53.5625 26.078125 56.59375 19.921875 \nL 66.609375 0 \nL 56 0 \nL 46.6875 18.703125 \nQ 43.0625 26.03125 39.671875 28.421875 \nQ 36.28125 30.8125 30.421875 30.8125 \nL 19.671875 30.8125 \nL 19.671875 0 \nL 9.8125 0 \nL 9.8125 72.90625 \nL 32.078125 72.90625 \nQ 44.578125 72.90625 50.734375 67.671875 \nQ 56.890625 62.453125 56.890625 51.90625 \nQ 56.890625 45.015625 53.6875 40.46875 \nQ 50.484375 35.9375 44.390625 34.1875 \nz\nM 19.671875 64.796875 \nL 19.671875 38.921875 \nL 32.078125 38.921875 \nQ 39.203125 38.921875 42.84375 42.21875 \nQ 46.484375 45.515625 46.484375 51.90625 \nQ 46.484375 58.296875 42.84375 61.546875 \nQ 39.203125 64.796875 32.078125 64.796875 \nz\n\" id=\"DejaVuSans-82\"/>\n      </defs>\n      <use xlink:href=\"#DejaVuSans-82\"/>\n      <use x=\"67.232422\" xlink:href=\"#DejaVuSans-97\"/>\n      <use x=\"128.511719\" xlink:href=\"#DejaVuSans-100\"/>\n      <use x=\"191.988281\" xlink:href=\"#DejaVuSans-105\"/>\n      <use x=\"219.771484\" xlink:href=\"#DejaVuSans-120\"/>\n      <use x=\"278.951172\" xlink:href=\"#DejaVuSans-32\"/>\n      <use x=\"310.738281\" xlink:href=\"#DejaVuSans-83\"/>\n      <use x=\"374.214844\" xlink:href=\"#DejaVuSans-111\"/>\n      <use x=\"435.396484\" xlink:href=\"#DejaVuSans-114\"/>\n      <use x=\"476.509766\" xlink:href=\"#DejaVuSans-116\"/>\n     </g>\n    </g>\n   </g>\n  </g>\n </g>\n <defs>\n  <clipPath id=\"pb382dfd7c1\">\n   <rect height=\"217.44\" width=\"334.8\" x=\"46.965625\" y=\"22.798125\"/>\n  </clipPath>\n </defs>\n</svg>\n",
      "image/png": "[encoded data removed]"
     },
     "metadata": {
      "needs_background": "light"
     }
    }
   ],
   "source": [
    "# Tentei executar desse jeito, sendo que demorou muito para gerar o gráfico (mais de 20min)\n",
    "\n",
    "# plt.plot([\"1.000\", \"5.000\", \"10.000\", \"20.000\", \"50.000\", \"75.000\", \"100.000\"], (exe(selection_sort), label = \"Selection Sort\"))\n",
    "# plt.plot(exe(treesort), label = \"Tree Sort\")\n",
    "# plt.plot(exe(radixSort), label = \"Radix Sort\")\n",
    "# plt.plot(exe_quick(), label = \"Quick Sort\") \n",
    "\n",
    "\n",
    "\n",
    "plt.plot([\"1.000\", \"5.000\", \"10.000\", \"20.000\", \"50.000\", \"75.000\", \"100.000\"], selection_geral, label = \"Selection Sort\")\n",
    "plt.plot(quick_geral, label = \"Quick Sort\") # Como o quick sort roda muito rápido e o tree sort também, eles ficaram um em cima do outro no gráfico\n",
    "plt.plot(tree_geral, label = \"Tree Sort\")\n",
    "plt.plot(radix_geral, label = \"Radix Sort\") \n",
    "plt.title(\"Tempo de cada método x Conjuntos aleatórios\")\n",
    "plt.ylabel(\"Tempo (milisegundos)\")\n",
    "plt.legend()\n",
    "plt.show()"
   ]
  },
  {
   "source": [
    "# Para cada algoritmo implementado o aluno deve escrever uma análise da complexidade temporal e espacial do algoritmo, essa análise deverá ser escrita no próprio notebook deve conter as informações como:\n",
    "\n",
    "## Selection Sort\n",
    "#### Se tivermos n valores em nosso array, Selection Sort tem uma complexidade de tempo de O (n²) no pior caso. Na melhor das hipóteses, já temos um array ordenado, mas precisamos percorrer o array O (n²) vezes para ter certeza. Nesse algoritmo, o melhor caso, o pior caso e o caso ,médio de complexidade de tempo do Selection Sort são os mesmos. E a complexidade do espaço, não precisamos alocar nenhuma memória para que a ordenação ocorra. A complexidade do espaço então é O (1).\n",
    "\n",
    "\n",
    "## Quick Sort\n",
    "#### O pior caso ocorre quando o processo de partição sempre escolhe o maior ou o menor elemento como pivô. Se considerarmos a que eu fiz, que o primeiro elemento é sempre escolhido como pivô, o pior caso ocorreria quando a matriz já estivesse classificada em ordem crescente ou decrescente. O pior caso é O (n²).\n",
    "#### Já o melhor caso e o caso médio ocorre quando o processo de partição sempre escolhe o elemento do meio como pivô. Nesse caso a complexidade é de O (nLogn). \n",
    "#### Fato interessante: O QuickSort é mais rápido na prática, porque seu loop interno pode ser implementado com eficiência na maioria das arquiteturas e na maioria dos dados do mundo real.\n",
    "\n",
    "\n",
    "## Tree Sort\n",
    "#### Adicionar um item a uma árvore de pesquisa binária leva em média tempo O (log n). Portanto, adicionar n itens levará O (n log n) tempo.\n",
    "#### Assim como o tempo médio, para o melhor caso vai ser O (n log n), pelos mesmos motivos do caso médio.\n",
    "#### O pior caso de complexidade de tempo de Tree Sort pode ser melhorado usando uma árvore de busca binária de auto-equilíbrio, como AVL Tree. Usando árvore binária de autobalanceamento, o tree Sort levará O (n log n) tempo para ordenar o array no pior caso também.\n",
    "#### A complexidade espacial é O (n).\n",
    "\n",
    "\n",
    "## Radix Sort\n",
    "#### A complexidade de tempo da radix sort é dada pela fórmula, T(n) = O (d * (n + b)), \"d\" é o número de dígitos na lista fornecida, \"n\" é o número de elementos na lista, e \"b\" é o tamanho da base, que normalmente é base 10 para representação decimal.\n"
   ],
   "cell_type": "markdown",
   "metadata": {}
  },
  {
   "cell_type": "code",
   "execution_count": null,
   "metadata": {},
   "outputs": [],
   "source": []
  }
 ],
 "metadata": {
  "kernelspec": {
   "name": "python3",
   "display_name": "Python 3.8.6 64-bit",
   "metadata": {
    "interpreter": {
     "hash": "1ee38ef4a5a9feb55287fd749643f13d043cb0a7addaab2a9c224cbe137c0062"
    }
   }
  },
  "language_info": {
   "codemirror_mode": {
    "name": "ipython",
    "version": 3
   },
   "file_extension": ".py",
   "mimetype": "text/x-python",
   "name": "python",
   "nbconvert_exporter": "python",
   "pygments_lexer": "ipython3",
   "version": "3.8.6-final"
  }
 },
 "nbformat": 4,
 "nbformat_minor": 4
}